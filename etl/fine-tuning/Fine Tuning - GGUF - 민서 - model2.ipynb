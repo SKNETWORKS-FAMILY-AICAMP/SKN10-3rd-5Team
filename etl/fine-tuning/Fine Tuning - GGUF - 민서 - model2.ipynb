{
 "cells": [
  {
   "cell_type": "markdown",
   "metadata": {
    "id": "VPbutmrlqyFC"
   },
   "source": [
    "# [예제](https://docs.unsloth.ai/get-started/unsloth-notebooks)"
   ]
  },
  {
   "cell_type": "markdown",
   "metadata": {
    "id": "zXC1su1-q8Y6"
   },
   "source": [
    "## install"
   ]
  },
  {
   "cell_type": "code",
   "execution_count": 1,
   "metadata": {
    "executionInfo": {
     "elapsed": 71542,
     "status": "ok",
     "timestamp": 1744273294975,
     "user": {
      "displayName": "민서",
      "userId": "18343655663359920757"
     },
     "user_tz": -540
    },
    "id": "GOHnTTCCqF4D"
   },
   "outputs": [],
   "source": [
    "%%capture\n",
    "import os\n",
    "\n",
    "!python -m pip install --upgrade pip\n",
    "!pip install typing_extensions==4.12.2\n",
    "if \"COLAB_\" not in \"\".join(os.environ.keys()):\n",
    "    !pip install unsloth vllm\n",
    "else:\n",
    "    # [NOTE] Do the below ONLY in Colab! Use [[pip install unsloth vllm]]\n",
    "    !pip install --no-deps unsloth vllm\n",
    "# Install latest Hugging Face for Gemma-3!\n",
    "!pip install --no-deps git+https://github.com/huggingface/transformers@v4.49.0-Gemma-3"
   ]
  },
  {
   "cell_type": "code",
   "execution_count": 2,
   "metadata": {
    "executionInfo": {
     "elapsed": 141397,
     "status": "ok",
     "timestamp": 1744273436367,
     "user": {
      "displayName": "민서",
      "userId": "18343655663359920757"
     },
     "user_tz": -540
    },
    "id": "5uyllJAfJ8XU"
   },
   "outputs": [],
   "source": [
    "# #@title Colab Extra Install { display-mode: \"form\" }\n",
    "# %%capture\n",
    "# import os\n",
    "# if \"COLAB_\" not in \"\".join(os.environ.keys()):\n",
    "#     !pip install unsloth vllm\n",
    "# else:\n",
    "#     !pip install --no-deps unsloth vllm\n",
    "#     # [NOTE] Do the below ONLY in Colab! Use [[pip install unsloth vllm]]\n",
    "#     # Skip restarting message in Colab\n",
    "#     import sys, re, requests; modules = list(sys.modules.keys())\n",
    "#     for x in modules: sys.modules.pop(x) if \"PIL\" in x or \"google\" in x else None\n",
    "#     !pip install --no-deps bitsandbytes accelerate xformers==0.0.29.post3 peft \"trl==0.15.2\" triton cut_cross_entropy unsloth_zoo\n",
    "#     !pip install sentencepiece protobuf datasets huggingface_hub hf_transfer\n",
    "\n",
    "#     # vLLM requirements - vLLM breaks Colab due to reinstalling numpy\n",
    "#     f = requests.get(\"https://raw.githubusercontent.com/vllm-project/vllm/refs/heads/main/requirements/common.txt\").content\n",
    "#     with open(\"vllm_requirements.txt\", \"wb\") as file:\n",
    "#         file.write(re.sub(rb\"(transformers|numpy|xformers)[^\\n]{1,}\\n\", b\"\", f))\n",
    "#     !pip install -r vllm_requirements.txt\n"
   ]
  },
  {
   "cell_type": "markdown",
   "metadata": {
    "id": "4BezzBCvrYkc"
   },
   "source": [
    "## [Load Model](https://huggingface.co/unsloth)"
   ]
  },
  {
   "cell_type": "code",
   "execution_count": 3,
   "metadata": {
    "colab": {
     "base_uri": "https://localhost:8080/"
    },
    "executionInfo": {
     "elapsed": 29805,
     "status": "ok",
     "timestamp": 1743497045399,
     "user": {
      "displayName": "조경원",
      "userId": "10205523497785796707"
     },
     "user_tz": -540
    },
    "id": "7CcJHGXNqF7E",
    "outputId": "d434a3d5-8153-47eb-8917-675d4ba1f1a5"
   },
   "outputs": [
    {
     "name": "stdout",
     "output_type": "stream",
     "text": [
      "🦥 Unsloth: Will patch your computer to enable 2x faster free finetuning.\n",
      "🦥 Unsloth Zoo will now patch everything to make training faster!\n",
      "INFO 04-13 05:22:26 [__init__.py:239] Automatically detected platform cuda.\n",
      "Unsloth: We'll be using `/tmp/unsloth_compiled_cache` for temporary Unsloth patches.\n",
      "Standard import failed for UnslothBCOTrainer: No module named 'UnslothBCOTrainer'. Using tempfile instead!\n",
      "==((====))==  Unsloth 2025.3.19: Fast Gemma3 patching. Transformers: 4.50.0.dev0. vLLM: 0.8.3.\n",
      "   \\\\   /|    NVIDIA A40. Num GPUs = 1. Max memory: 44.339 GB. Platform: Linux.\n",
      "O^O/ \\_/ \\    Torch: 2.6.0+cu124. CUDA: 8.6. CUDA Toolkit: 12.4. Triton: 3.2.0\n",
      "\\        /    Bfloat16 = TRUE. FA [Xformers = 0.0.29.post2. FA2 = False]\n",
      " \"-____-\"     Free license: http://github.com/unslothai/unsloth\n",
      "Unsloth: Fast downloading is enabled - ignore downloading bars which are red colored!\n"
     ]
    },
    {
     "data": {
      "application/vnd.jupyter.widget-view+json": {
       "model_id": "a2b3afb431c040b29724b82ad3de7774",
       "version_major": 2,
       "version_minor": 0
      },
      "text/plain": [
       "model.safetensors:   0%|          | 0.00/4.56G [00:00<?, ?B/s]"
      ]
     },
     "metadata": {},
     "output_type": "display_data"
    },
    {
     "data": {
      "application/vnd.jupyter.widget-view+json": {
       "model_id": "a7d9ddac60f84194aba69358dc20c731",
       "version_major": 2,
       "version_minor": 0
      },
      "text/plain": [
       "generation_config.json:   0%|          | 0.00/210 [00:00<?, ?B/s]"
      ]
     },
     "metadata": {},
     "output_type": "display_data"
    },
    {
     "data": {
      "application/vnd.jupyter.widget-view+json": {
       "model_id": "335c27be39e440e9bbadc19705f8d141",
       "version_major": 2,
       "version_minor": 0
      },
      "text/plain": [
       "processor_config.json:   0%|          | 0.00/70.0 [00:00<?, ?B/s]"
      ]
     },
     "metadata": {},
     "output_type": "display_data"
    },
    {
     "data": {
      "application/vnd.jupyter.widget-view+json": {
       "model_id": "11cd33eeb7ce443c9fc3efa5bbe0b71a",
       "version_major": 2,
       "version_minor": 0
      },
      "text/plain": [
       "chat_template.json:   0%|          | 0.00/1.61k [00:00<?, ?B/s]"
      ]
     },
     "metadata": {},
     "output_type": "display_data"
    },
    {
     "data": {
      "application/vnd.jupyter.widget-view+json": {
       "model_id": "5ee7a593d2ae4cb9b20fd3fa46ec342f",
       "version_major": 2,
       "version_minor": 0
      },
      "text/plain": [
       "preprocessor_config.json:   0%|          | 0.00/570 [00:00<?, ?B/s]"
      ]
     },
     "metadata": {},
     "output_type": "display_data"
    },
    {
     "name": "stderr",
     "output_type": "stream",
     "text": [
      "Using a slow image processor as `use_fast` is unset and a slow processor was saved with this model. `use_fast=True` will be the default behavior in v4.48, even if the model was saved with a slow processor. This will result in minor differences in outputs. You'll still be able to use a slow processor with `use_fast=False`.\n"
     ]
    },
    {
     "data": {
      "application/vnd.jupyter.widget-view+json": {
       "model_id": "ff07b2e75fad491882ab36629bdd0387",
       "version_major": 2,
       "version_minor": 0
      },
      "text/plain": [
       "tokenizer_config.json:   0%|          | 0.00/1.16M [00:00<?, ?B/s]"
      ]
     },
     "metadata": {},
     "output_type": "display_data"
    },
    {
     "data": {
      "application/vnd.jupyter.widget-view+json": {
       "model_id": "f8d45294f06647dea205310a45cec7d4",
       "version_major": 2,
       "version_minor": 0
      },
      "text/plain": [
       "tokenizer.model:   0%|          | 0.00/4.69M [00:00<?, ?B/s]"
      ]
     },
     "metadata": {},
     "output_type": "display_data"
    },
    {
     "data": {
      "application/vnd.jupyter.widget-view+json": {
       "model_id": "8a6509f6b414422daf699b0d53752ed6",
       "version_major": 2,
       "version_minor": 0
      },
      "text/plain": [
       "tokenizer.json:   0%|          | 0.00/33.4M [00:00<?, ?B/s]"
      ]
     },
     "metadata": {},
     "output_type": "display_data"
    },
    {
     "data": {
      "application/vnd.jupyter.widget-view+json": {
       "model_id": "d1a2fc581b134e67bf75c2738a75271c",
       "version_major": 2,
       "version_minor": 0
      },
      "text/plain": [
       "added_tokens.json:   0%|          | 0.00/35.0 [00:00<?, ?B/s]"
      ]
     },
     "metadata": {},
     "output_type": "display_data"
    },
    {
     "data": {
      "application/vnd.jupyter.widget-view+json": {
       "model_id": "11031b8739774920bdab5860e478b7bb",
       "version_major": 2,
       "version_minor": 0
      },
      "text/plain": [
       "special_tokens_map.json:   0%|          | 0.00/670 [00:00<?, ?B/s]"
      ]
     },
     "metadata": {},
     "output_type": "display_data"
    }
   ],
   "source": [
    "from unsloth import FastModel\n",
    "import torch\n",
    "\n",
    "fourbit_models = [\n",
    "    # 4bit dynamic quants for superior accuracy and low memory use\n",
    "    \"unsloth/gemma-3-1b-it-unsloth-bnb-4bit\",\n",
    "    \"unsloth/gemma-3-4b-it-unsloth-bnb-4bit\",\n",
    "    \"unsloth/gemma-3-12b-it-unsloth-bnb-4bit\",\n",
    "    \"unsloth/gemma-3-27b-it-unsloth-bnb-4bit\",\n",
    "\n",
    "    # Other popular models!\n",
    "    \"unsloth/Llama-3.1-8B\",\n",
    "    \"unsloth/Llama-3.2-3B\",\n",
    "    \"unsloth/Llama-3.3-70B\",\n",
    "    \"unsloth/mistral-7b-instruct-v0.3\",\n",
    "    \"unsloth/Phi-4\",\n",
    "] # More models at https://huggingface.co/unsloth\n",
    "\n",
    "model, tokenizer = FastModel.from_pretrained(\n",
    "    model_name = \"unsloth/gemma-3-4b-it\",\n",
    "    max_seq_length = 16384, # Choose any for long context!\n",
    "    load_in_4bit = True,  # 4 bit quantization to reduce memory\n",
    "    load_in_8bit = False, # [NEW!] A bit more accurate, uses 2x memory\n",
    "    full_finetuning = False, # [NEW!] We have full finetuning now!\n",
    "    # token = \"hf_...\", # use one if using gated models\n",
    ")"
   ]
  },
  {
   "cell_type": "markdown",
   "metadata": {
    "id": "TP0M4Za7r5Ix"
   },
   "source": [
    "## PEFT : LoRA"
   ]
  },
  {
   "cell_type": "code",
   "execution_count": 4,
   "metadata": {
    "colab": {
     "base_uri": "https://localhost:8080/"
    },
    "executionInfo": {
     "elapsed": 6779,
     "status": "ok",
     "timestamp": 1743497052181,
     "user": {
      "displayName": "조경원",
      "userId": "10205523497785796707"
     },
     "user_tz": -540
    },
    "id": "Ql9_EydDqF-G",
    "outputId": "9e752a15-654b-49db-9dac-af0eb89eda0a"
   },
   "outputs": [
    {
     "name": "stdout",
     "output_type": "stream",
     "text": [
      "Unsloth: Making `model.base_model.model.language_model.model` require gradients\n"
     ]
    }
   ],
   "source": [
    "model = FastModel.get_peft_model(\n",
    "    model,\n",
    "    finetune_vision_layers     = False, # Turn off for just text!\n",
    "    finetune_language_layers   = True,  # Should leave on!\n",
    "    finetune_attention_modules = True,  # Attention good for GRPO\n",
    "    finetune_mlp_modules       = True,  # SHould leave on always!\n",
    "    r = 64,           # 0보다 큰 어떤 숫자도 선택 가능! 8, 16, 32, 64, 128이 권장됩니다.\n",
    "    lora_alpha = 64,  # Recommended alpha == r at least\n",
    "    lora_dropout = 0,\n",
    "    bias = \"none\",   # 바이어스를 지원합니다.\n",
    "    random_state = 3407\n",
    ")"
   ]
  },
  {
   "cell_type": "markdown",
   "metadata": {
    "id": "hopWxuW0t5ws"
   },
   "source": [
    "## datasets"
   ]
  },
  {
   "cell_type": "code",
   "execution_count": 5,
   "metadata": {
    "colab": {
     "base_uri": "https://localhost:8080/"
    },
    "executionInfo": {
     "elapsed": 2631,
     "status": "ok",
     "timestamp": 1743497054815,
     "user": {
      "displayName": "조경원",
      "userId": "10205523497785796707"
     },
     "user_tz": -540
    },
    "id": "QU8JoiWhuCmR",
    "outputId": "c0e58d7b-3e07-4e40-c09f-b11058eda808"
   },
   "outputs": [
    {
     "data": {
      "application/vnd.jupyter.widget-view+json": {
       "model_id": "e55ac922814140a398edf57195e9db90",
       "version_major": 2,
       "version_minor": 0
      },
      "text/plain": [
       "Resolving data files:   0%|          | 0/20 [00:00<?, ?it/s]"
      ]
     },
     "metadata": {},
     "output_type": "display_data"
    },
    {
     "data": {
      "application/vnd.jupyter.widget-view+json": {
       "model_id": "3bc05e024746484cbfef6054720d95be",
       "version_major": 2,
       "version_minor": 0
      },
      "text/plain": [
       "Downloading data:   0%|          | 0/20 [00:00<?, ?files/s]"
      ]
     },
     "metadata": {},
     "output_type": "display_data"
    },
    {
     "data": {
      "application/vnd.jupyter.widget-view+json": {
       "model_id": "1fde5faf50ef4cd2b238b874150e8d6e",
       "version_major": 2,
       "version_minor": 0
      },
      "text/plain": [
       "Generating train split: 0 examples [00:00, ? examples/s]"
      ]
     },
     "metadata": {},
     "output_type": "display_data"
    },
    {
     "data": {
      "text/plain": [
       "Dataset({\n",
       "    features: ['user_input', 'reference_contexts', 'reference'],\n",
       "    num_rows: 1629\n",
       "})"
      ]
     },
     "execution_count": 5,
     "metadata": {},
     "output_type": "execute_result"
    }
   ],
   "source": [
    "import glob\n",
    "from datasets import load_dataset\n",
    "\n",
    "csv_files = glob.glob(\"data/*.csv\")    \n",
    "\n",
    "# CSV 파일을 로드하는 코드입니다.\n",
    "dataset = load_dataset(\"csv\", data_files=csv_files, split=\"train\")\n",
    "\n",
    "# 데이터셋 확인\n",
    "dataset"
   ]
  },
  {
   "cell_type": "code",
   "execution_count": 6,
   "metadata": {
    "id": "1W-9UjrNqGBW"
   },
   "outputs": [
    {
     "data": {
      "application/vnd.jupyter.widget-view+json": {
       "model_id": "390b9d668b2741858da5428866927b7c",
       "version_major": 2,
       "version_minor": 0
      },
      "text/plain": [
       "Map:   0%|          | 0/1629 [00:00<?, ? examples/s]"
      ]
     },
     "metadata": {},
     "output_type": "display_data"
    }
   ],
   "source": [
    "# EOS_TOKEN은 문장의 끝을 나타내는 토큰입니다. 이 토큰을 추가해야 합니다.\n",
    "EOS_TOKEN = tokenizer.eos_token\n",
    "\n",
    "# AlpacaPrompt를 사용하여 지시사항을 포맷팅하는 함수입니다.\n",
    "alpaca_prompt = \"\"\"\n",
    "You are an expert AI chef.  \n",
    "Based on the user's provided ingredients, cooking tools, and available time, search **only within the given recipe dataset** and recommend **exactly one** recipe that best matches the user's input.  \n",
    "Respond **in Korean** and follow the format **exactly as shown below**. Do not include any additional explanations or extra content.\n",
    "\n",
    "If a matching recipe is found, respond using the following format:\n",
    "---\n",
    "요리 이름: <Recipe Name>  \n",
    "재료: <List of Ingredients>  \n",
    "요리 시간: <Cooking Time>  \n",
    "도구: <List of Tools>  \n",
    "요리 방법:  \n",
    "1. <Step 1>  \n",
    "2. <Step 2>  \n",
    "3. ...  \n",
    "---\n",
    "\n",
    "Here is an example output:\n",
    "---\n",
    "요리 이름: 계란 프라이  \n",
    "재료: 계란, 식용유, 소금  \n",
    "요리 시간: 5분  \n",
    "도구: 프라이팬, 가스레인지  \n",
    "요리 방법:  \n",
    "1. 프라이팬에 식용유를 두르고 달굽니다.  \n",
    "2. 계란을 깨뜨려 넣고 익힙니다.  \n",
    "3. 소금을 뿌려 마무리합니다.  \n",
    "---\n",
    "\n",
    "### User Input:\n",
    "{}\n",
    "\n",
    "### Response:\n",
    "{}\n",
    "\"\"\" + EOS_TOKEN\n",
    "\n",
    "\n",
    "# 주어진 예시들을 포맷팅하는 함수입니다.\n",
    "def formatting_prompts_func(examples):\n",
    "    questions = examples[\"user_input\"]  # 질문을 가져옵니다.\n",
    "    outputs = examples[\"reference\"]    # 답변을 가져옵니다.\n",
    "    texts = []  # 포맷팅된 텍스트를 저장할 리스트입니다.\n",
    "    for question, output in zip(questions, outputs):\n",
    "        # EOS_TOKEN을 추가해야 합니다. 그렇지 않으면 생성이 무한히 진행될 수 있습니다.\n",
    "        text = alpaca_prompt.format(question, output)\n",
    "        texts.append(text)\n",
    "    return {\n",
    "        \"text\": texts,  # 포맷팅된 텍스트를 반환합니다.\n",
    "    }\n",
    "\n",
    "# 데이터셋에 formatting_prompts_func 함수를 적용합니다. 배치 처리를 활성화합니다.\n",
    "dataset = dataset.map(\n",
    "    formatting_prompts_func,\n",
    "    batched=True,\n",
    ")"
   ]
  },
  {
   "cell_type": "code",
   "execution_count": 7,
   "metadata": {
    "colab": {
     "base_uri": "https://localhost:8080/"
    },
    "executionInfo": {
     "elapsed": 12,
     "status": "ok",
     "timestamp": 1743497054845,
     "user": {
      "displayName": "조경원",
      "userId": "10205523497785796707"
     },
     "user_tz": -540
    },
    "id": "GASrfmbc14R-",
    "outputId": "2532521d-0adb-4140-8803-530f7cfaeb5d"
   },
   "outputs": [
    {
     "data": {
      "text/plain": [
       "Dataset({\n",
       "    features: ['user_input', 'reference_contexts', 'reference', 'text'],\n",
       "    num_rows: 1629\n",
       "})"
      ]
     },
     "execution_count": 7,
     "metadata": {},
     "output_type": "execute_result"
    }
   ],
   "source": [
    "dataset"
   ]
  },
  {
   "cell_type": "code",
   "execution_count": 8,
   "metadata": {
    "scrolled": true
   },
   "outputs": [
    {
     "data": {
      "text/plain": [
       "{'user_input': '인사라타 라면의 조리 과정은 어떻게 되나요?',\n",
       " 'reference_contexts': '[\"[세상에는 많은 왕들이 있다] [백종원의 김밥왕] [백종원의 카레왕] [백종원의 떡볶이왕] [백종원의 만두왕] [최고의 왕을 찾아라] [백종원의 라면 왕 / 왕 시리즈 1탄] [라면에 미 친자] 완성됐습니다 [누구든 도 전하라] [3인의 도전자] [이들의 운명을 거머쥔] 어떡해 라면 국물 탁해져요 [커플] 남겨는 주셔야 돼요? [오늘 처음 본 사이] [시민 심 사 위원 3명과] [또 한 사람] [음주 합리화] 참고로 나는 어 제 술도 마시고 왔어요 저 두 [라면 왕 호스트 / 어나 더 백(?)과 함께하는] 세 분 다, 세 분 다 박수 한 번 [막상막하의 대결] [라면 왕의 주인공은?] [지금 시작합니다] [백종원의 라면 왕] 천하제일 라면 왕을 뽑는 라면 대회 백종원의 라면 왕 그 첫 번째 대결을 시작하도록 하겠습니다 [전 K 사 아나운서]저는 전 아나 현 유튜브 새내기 진행을 맡은 조충현입니다, 반갑습니다 오로지 라면 맛으로 승부하기 위해서 라면을 끓이는 중에는 도전자들의 [블라인드 대결 진행] 얼굴, 목소리, 스펙 [심사위원에게] 그 어떤 것도 공개하지 않습니다 [결과 발표 후 얼굴 공개] 철저히 베일에 쌓여진 그런 상태입니다 [팀원 분들도 1화는 블라인드로 즐겨보세요] [미션 금액]오늘의 도 전 가격은 요 [빽라면 +1000원] 1,000원 입니다 (도전자들은) 라면과 물을 제외한 재료를 1,000원 이하로 사용 하셔야 합니다 [철저하게 진행한 재료값 검증] 대회 시작 전에 재료 값은 재료 값은 정말 검증을 [지금 시작합니다] 완벽하게, 철저하게 마친 상태입니다 [재료 검증 START] [첫 번째 라면 is 수란 라면] 계란 하나 [수란 라 면] [계란 266원] [대파 137원] 대파 34.4 [청양고추 195원] 청양고추 5g [마늘 6원]통마늘 2.3 이게 비쌀 텐데 고춧가루가 [고춧가루 31원] 0.5지 [후춧가루 0.6원] 후춧가루 0.1 [참치액젓 46원] 액젓 통과 [다행] 뭐야 이게 [두 번째 라면 is 인사라타 라면] 재료 주세요 선생님 [맛있는 빽라면은 공짜] 맛있는 빽라면 라면에  넣을 거 아니면 그렇지, [다진마늘 7원] 간 마늘 있네 7원 [건표고버섯 7원] 말린 표고 [대파 써는 중] 지금 써는 거야? 칼질 소리 들으니 초짜인데? [다 다다다다] 이 사람 웃긴다 약간 [대파 100원] 통과 [총 649원] 다음 분 [ 계 완 푼면 / 계란 266원] 계란 한 개, 얼마? 200원이라고? 계란이 비싸구나 266원 [설탕 3원]설탕 얼 마치예요 이게? 설탕만 보면 온 몸에 전율이 [총 269원] 너무 싼데? 가산점 줘야 되나? [] [가산점 없음] 아 좋아하는데? 모두 통과 하셨습니다 이 따 뵐게요 수고하셨습니다! [백종원의 라면 왕] 라면 왕을 뽑아 주실 심사위원 분들도 소개에 올리도록 하겠습니다 객관적인 심사를 위해서 도전자 3인과는 아무런 관계가 없는 시민 분 세 분을 모셨습니다 [과연 심사 위원은 누구?] 뻥(?) [이 분은 뉘신지] [삐끗] 뽀 오글 뽀오글 맛 좋은 라면 내 이름은 마이콜 조입니다 [마이콜 조 / LA에서 25년간 버스킹하다 옴]저 버스킹 25년째 하고 있었거든요 [라면 왕 심사위원 구하는 직업 구함] 그래서 나 살아야 해요 한 시간 동안 심사위원 3명을 구하시면 됩니다 (의역)와 따 이 사람 아 뭐? [LA는 더운데] 한국은 오늘  매우 춥네요 살려줘 어찌 됐든 [1시간 안에 즉석에서 심사위원 3명 구하라] 그럼 3명 데리고 오면 돼 요 한 시간 안에 ? 혹시 라라 바쁘세요? 바쁘십니까 ! 추출근 와 따 지금 출근 시간 맨! [당황 할 땐 한국어 잘 하는 편]잠깐만 나 미치겠네 저 혹시 혹시 지금 바쁘신가요? 지금 시간 되시나요? 잠깐 잠깐 인터뷰 가능하시겠습니까 출근 몇 시까지 출근하 세요? - 9시 반?- 9시 반이요 빨리 가세요 빨리 가세요 라면 한국 사람 라면 안 좋아해? [바쁘다 바빠] 다들 뛰어 [이것이 바로 K-출근길이다!] [플러팅 아님] 라면 먹고 갈래요? 라면 먹고 갈래요? 저 LA에서 왔어요 버스킹 25년 째 저 이상한 사람 아니에요 라면 둑흐 라면 먹고 가 실 분 [경과 시간] 혹시 라면 시간 되십니까 혹시 라면 좋아하십 니까? - 네?- 미식가 [개이득] 미식가, 내가 봤을 때 약간 미식가 선생님도 약간 미식가 라면 좀 좋아하세요? 좋아하죠 [일주일에 3~4번 먹는 라면] 한 3~4번 ? 좋아 좋아, 이런 분이 심사위원 하셔야 되거든 자격증도 있습니다 [무슨 자격증인지는 관심 무]자격증도 있으십니꽈아? 한 시간 정도 시간 되십니까? 지금은 안 돼 요 안 돼 안 돼 형 형 부탁  좀 하자 - 일하러 가야 돼서- 몇 시까지? 몇 시까지? 한 시간만 시간 안 되십니까? (제발) 진짜 재밌을 거 같은데 - 내가 봤을 때 오늘- 오케이 오케이 오케이x4 시간을 내주셨기 때문에 한 시간에 3만원을 드리고 있습니다 돈 안 받아도 되는데 쏘 쿨 맨 [업무 처리 후 합류 예정] [심사위원 1/3 섭외 완] 마이콜 조가 너무 어려워 요 지금 한  시간만 시간 주시면 돼 요 1시간은 조금 어려울 것 같은데 진료 받으러 가야 됩니다 [군인 진료는 보내주자] 충성, 네 충성 뽀오글 뽀오글 x2 맛 좋은 라면 - 아기 공룡 둘리 몰라? - 이 분 찐이 네 이 분 찐 이야 1시간 정도 시간 가능하세요? - 1시간이요? - 네 (친구) 한 명 더 오면은 오! 한 명 더 오면 잠깐만 친구 오셨구나 나이스 미츄 나 이스 미츄 근데 몇 살이에요? 몇 살? - 07- 07 저도 07이 요 죄송합니다 거 몇 학년이요? 고2입니다 그래도 괜찮아 왜냐하면 신선한 입맛이 정확하게 선택할 수 있단 말이에 요 [심사위원 섭외 완] [시민 심사위원 입장]좋습니다 라면 왕 대회의 주최자이시 자 심사위원장이 신 백종원 대표님 모시겠습니다 큰 박수 부탁드립니다 훨씬 날씬하시네요 저 정도(?)  인줄 알았거든요 너무 잘생기셨어요 [감사] [완전 대박] 좋습니다 이렇게 심사위원 3인과 백 위원장(?)님 까지 총 네 분 나 위원장이야? [정정 요구]요새 용어 잘 써야 돼 위원장님 그런 거 쓰면 안 돼 [또 다른 한 사람] 어나 더 원(?) [이때부터 우리는 \\'어나 더 백\\'이라 불렀다] 어나 더 원, 백 어나 더 원 이렇게 해서 총 4분이 도 전자들의 라면을 시 식 후 평가를 하실 텐데 요 점수는 0점에서 3점까지 최대 3점까지 점수를 매길 수 있습니다 [어나 더 백도 0~3점 점수 부여]- 나도 똑같이죠? - 똑같습니다 똑같이 점수가 동률이 나올 수도 있지 않습니까 [(동점인 경우) 어나 더 백의 최고점 라면 이 우승]미리 팀원님들께 공지해 드리도록 하겠습니다 그 정도는 해도 되잖아? 그럼 먼저 오늘의 도전장을 낸 세  개의 라면 이름 먼저 살펴보도록 하겠습니다 수란 라면 예상이 되는데 약간 예상이 되죠 약간 이름만 봐도 예상이 되는데요 인사라타, 이건 예상이 되십니까? 인싸(사)들이 먹는 라면을 타! [] 인도 풍인가 했는데 그건 아닌 것 같아 [저두] 인도 쪽이라고 느낌이 왔습니까? 인도 같은 느낌이었습니까? 커리 쪽(느낌이) 역시 약간 미식의 느낌이 세심하게 나오십니 다 계 완 푼면 계란을 완전히 푼 라면 그런 거 같지 않아요? [저두] - 네- 계란을 완전히 푼 라면 (계란) 풀어서 국물에 약간 부은 처음 끓였던 게 라면 라면 이름이 많이 길어서 (허허) 조금 줄여왔어요 인사라타 라면입니다 라면을 끓이는 것도 중요한데 끓이고 나서 빨리 제가 먹어보든 아니면 와이프한테 먹어보라고 지금 먹어야 돼 지금 여기서 조금 더 지나면  맛 없어 제가 도 전할 라면은 계완 푼면입니다 부천시 라면 대장입니다 대표님도 심사위원 분들도 다들 경험해 보셨으면 좋겠습니다 도전자 분들 [공정한 심사를 위해 목소리도 공개하지 않습니다] 대답 안 하시네 준비 되셨으면 머리 위로 동그라미 오케이 좋습니다 [대만족] 잘 만들었네 [하트]가산점 0.3점 ! [내 하트를 받아줘요] 약간 인 싸 느낌 나요, 인사라타 인사라 타 저렇게 촐싹 대면 떨어질 확률도 있습니다 좋습니다 그러면은 첫 번째 대결의 순간 요리 시작하겠습니다 [대결 시작]요리 시작하겠습니다 (대회 시간) 몇 분 주는 거야? 오늘은 정해진 시 간 없습니다 근데 이거를 뭐 하러 눌러? 라면 나오는 시간 체크용 [이해 완] [라면 나오는 순서대로 시식한다] 나오는 순서대로 먹는 거야? 오케이 [초3부터 라면 짬바 / 예 사롭지 않은 칼질의 수란 라면] [거침없는 손 놀림 계완 푼면] [시간이 생명이라 했던가]지금 먹어야 해 지금 [인사 라타 라면 / 시간을 달리는 칼질] 좀 만 더 지나면 맛이 없어 초짜인데? 안녕하십니까 안녕하십니까 이런 분들이었군 요 수란 수란 라면 [그것이 알고 싶은 수란 만들기]수란 만드는 과정도 굉장히 궁금하기도 하고요 인사라타 뭔가 벌써부터 [(아직  끓기 전 물) / 불린 건 표고와 후레이크, 다진 마늘을 한 번에] 물 끓이고 지금 다 끓지도 않았는데 마늘이 그냥 들어가는 것 같습니다 [허우적 허우적] 지금 저한테 뭔가를 자꾸 해 보라고 하는데 [향을 느껴보라는 손짓] 느껴보라고? 느껴보라고 잠깐만 여기 이 거 뭐예요? 이 거 설탕 같은데? [가만 있는 설탕한테 왜 그려?] 왜 어 때서 설탕이 당을 섭취해서 에너 지원으로 쓰고 [지방으로 쑤 우욱] 남은 거는 지방으로 가는 거야 [과도 한 설탕 섭취를 지 양합니다] 그래서 많이 먹지 말라는 얘기예요 [다 다다] 수란 수란 라면 지금 [정성껏 마늘을 다진 뒤] 마늘을 굉장히 아주 정성껏 다져줬습니다 좋아요 물 끓였어요? 아직 물도 안 넣었어요 지금 ? 저 사람(조MC) 왜 저래 - 제가 잔소리하는 게 아니라- 왜 혼내? [당황] 아 닙니다 아닙니다 다른 분들은 다 지금 [인사 라타 / 계 완푼면] 물을 끓이고 계신데 일부러 무슨 뜻이 있는 게 아닐까? [고도의 전략?] 맨 나중에 먹게 하려고? [수란 라면은 고도의 전략일지?] 인사 라 타 퍼포먼스가 인 싸 느낌이 네 요리사 분들 같지 않아 요 그냥 일반분들 같아 요 [대회 탄생에 대한 오해?] 우리가 이 대회를 만든 걸 오해하시는 분들이 많아요 [편안한  마음으로 / 언제나 지원 가능]그냥 집에서 자기가 해 먹는 거 가지고 와서 해 먹으면 돼 요 진짜 그 취지를 다들 이해하신 것 같아 요 별 거 없어요 물론 후반부로 가면서 전문적인 기술이 있는 분이 나올 수 있겠지 [오늘은 오로지 라면에 대한 열정] [그리고] [오늘의 관전 포인트] 계란 하나 계란 계란 한 개 [계란을 보아라] [냄비로 직행하는 계란] 이 어서 계완 푼면 [부천 라면 대장 / 거침없이 흔들어 재껴] 흔들어 재껴 계 풀고 있어요 지금 계 풀고 있어요 [합리적 음주]참고로 저는 어 제 술도 마셨어요 저도 이 거 하려고 [편한 게 최고 / 청양고추는 가위로 송송] [계란을 풀어서 라면에 골고루] 좋아요 [라면은 얌전히] 근데 이 분들 세 분 모두 눈빛은 완전히 내가 라면 왕이 다 [계 풀고 마무리에 적당히  설탕을] 좋습니다 계 완 푼면 드디어 하나까지 끝까지 [인사 라타 라면도 마무리] 계완 푼면 [ 계 완 푼면 띵] 계완 푼면 먼저 계 완 푼면 계완 푼면 먼저 [ 계 완 푼면 완성] 완성됐습니다 [면과 면 사이에 계란이 담백하게] [ 계 완 푼면] [ 계 완 푼면과 간 발의 차이로 끝난 인 사라타 라면] [인사 라타 라면 완성] [ 계 완 푼면과 불과 11초 차이] [건표고와 따로 푼 계란을 넣은] [ 인사 라타 라면] [평가TIME] 진짜 이 비주얼은 어디서 많이 보던 비주얼들인데? 라면은 나오자마자 바로 먹어야 해 [과연 이들의 평가는?] [ 계 완 푼면, 인사라타 라면 / 두 가지 라면은 시식 중인데] 이제 들어가나 보다 잠깐만 여기는 먼저 면을 빼고 스프에 고춧가루를 더 넣어서 [국물을 따로 끓이며 재료 추가 / 후추, 고춧가루, 청양고추] [핵심 포 인트 수란 만들기] 국물 [냄비 기울이기 스킬 발동] 지금 수란 나오고 있어요 지금 여기 이 제 거의 완성되고 있는 것 같습니다 수란 수란 나왔어 수란 오케이 오케이 [수란 라면 완성] 옳지 수란 라면 대령입니다 수란 라면 그러면 하면 안 돼 요 왜냐하면 요즘은 그렇게 하면 안 돼 요 - 라면 국물 탁해지잖아요- 탁해지는 거 싫어하는구나 요즘 친구들은 또 그런  거를 [화난 거 아님] 얻다 대고 친구라고 해 이 사람이 큰일 나려고 [(수란 안 터트린) 수란 라면부터] 빨리 드셔 보세요 [바로 돌아온 미소]우리 백 대표님과 심사위원 분들 밥값 굳었다 [눈치 쓱] 밥값 굳었어요? 뭐 이렇게 많이 가져가요 선생님은 [농담] - 배고팠어요- 아직 고등학생이에요 10대여서 [화제 전환] (수란 라면) 드셨어요? 맛은 좀 보셨어 요? 아니 수란을 약간 익은 상태에서 해서 국물이 탁해지지는 않는데 [말해 뭐해]- 깼을 때의 맛도 봐야지- 맞습니다 (수란) 깼을 때의 맛도 왜냐하면 도 전자분이 수란을 마지막에 넣었거든요 [미식가 특급 칭찬]- 잘 하셨네- 잘 하셨다 [인정] 수란은 성공적 이야 [다행] [들썩들썩] 광대가? 되게 좋아하시는데요 지금 ? [만족] 어깨춤을 이렇게 추고 계시는데 그러면  [(스탑) / 먹어도 또 먹고 싶은 빽라면] 더 먹고 싶은데 참아야겠다 [빽라면 깜짝 특가 이벤트] 이번에 런칭 기념으로 [팀원들을 위한 초특가 구매 기회] 빽라면을 초특가로 구입할 수 있는 루트를 알려드리겠습니다 이벤트를 합니다 이 밑에 보시면 빽쿡이나 빽 쿡닷컴을 검색하시면 바로 가 실 수 있습니다 이게 짧은 시간 동안 강력하게 세이브를 하는 걸 보여드리 는데 이번에 라면은 런칭 기념으로 [4월 1일(월)부터 소진 시까지 / 한 정 수량 판매 예정] 저희 빽라면을 싸게 구입할 수 있게 준비했습니다 - 아마 한 3일 정도- 3일? - 기간 3일?- 나중에 반응 좋으면 또 할 수도 있겠지만 우선은 3일 딱 시간을 드립니다 딱 보고 딱 괜찮다 딱 그러면 그때 확 열어줄 수 있는? [라면 떨어지면 못 팔아요] 아니요  근데 떨어지면 못 합니다 그러니까 여러분 [(좋아요 꾸욱) / 라면 왕도 보고 라면도 싸게 먹고] 라면 왕 많은 사랑 부탁드리겠습니다 일로 빨리 들어 오세요 [자세한 사항은 더 보기란을 참조하세요] [평가 TIME] 대표님은 안쪽으로 모시도록 하겠습니다 [공정성을 위해 심사 구역 분리] - 공정함을 위해서- 공정함을 위해서 우리 심사위원 세 분은 한 분씩 비밀의  방이 있습니다 (점수를) 적 고 인터뷰 하라고 했는데 ? X번은 XXXX 해가지고 국물도 많았는데 간도 괜찮았고요 또 해장하기에 좋은 것 같아 요 해장 라면으로도 괜찮을 것 같아서 XXXXX라면을 선택했습니다 뭔가 다른 라면 들보다 조금 고급진 맛이 났다? 이런 느낌이어서 맛있게 먹었던 것 같아 요 깔끔해서 이 질감이 없어서 다들 부담 없이 드실 수 있겠다 생각해서  XXX라면에 드렸습니다 [평가 완] 그런데 XXXXX라면에 3점을 준 이유는 저 라면이 기술(테크닉)이 들어가는 거라 [테크닉이 필요한 라면?] X번에 조금 테크닉적으로 줘야 하지 않을까 [어나 더 백도 심사 완]1번 수란 라면 2번 인사라타 라면 3번 [백종원의 라면왕] 이제 결과는 다 나왔습니다 [라면 왕 대회의 첫 번째 주인공은?] 이제 제 손에 라면 왕  그 첫 번째 결과가 주어졌습니다 참고로 발표하기 전에 다 맛있었어요 진짜 고생 많으셨습니다 애석하지만 3 등 먼저 발표하도록 하겠습니다 3 등은 바로 총점 [3등 - 총 6점] 6점을 얻은 [계란의 활용이 달랐던 라면들] [과연 그 결과는?] 6점을 얻은 [3등 인사라타 라면] 인사 라 타 라면입니다 인사라타 라면입니다 [좌절] 손을 이 분 어 떡해 [샤따 내려] 종  쳤어 [혼자 있고 싶네요] 마감하지 마세요 삐지셨어 아니야 아니야 [얼굴 공개] 인사 라 타 라면 도 전자분 안녕하십니까 [인사 라타 라면의 주인공 / 씁쓸] 되게 잘 생겼는데? 진짜 잘생겼어요 [아쉬 한 가득] 저는 이번에 1대 라면 왕의 야심을 품고 출연을 하게 된 조 하루라고 합니다 경기도 광주에 사는 40살 조 하루라고 합니다 40살 조 하루라고 합니다 여러분 들으시 는 노래 신곡이 나오면 [출처 @mc_haru_official / 쇼케이스 MC] 기자님들 앞에서 제일 먼저 소개해 드리는 쇼케이스라든지 [콘서트, 팬 미팅 MC] 아니면 콘서트, 팬 미팅 같은 거 위주로 하거든요 MC 하루로 활동하고 있습니다 기본적인 맛은 굉장했는데 아쉽게도 안 드셔보셨잖아요? [당황]- 아니- 제 거 안 드셔보셨잖아요 저는 못 먹었죠 -  침착해야 해- 침착 침착 뒤끝이 좀 있으시구나 [이 자리에 온 것만으로도 영광입니다] 대표님을 뵀다는 것만으로도 너무너무 영광스런 자리였고요 - 근데 인사라타가 왜 인사라타예요? - 왜 인사라타인 가요? 제 라면 인사라타의 이름은 줄임말인데요 인생과 사랑과 라면은 타이밍이 다 - 좋다 좋네- 아무도 못 맞혔네 [이제 아쉬웠던 부분 말해도 돼요?] 근데 제가 개인 적으로 아쉬운 거는 [골든 타임] 제가 생각하는 골든 타임을 놓쳤어요 타이밍 라면인데 3번 참가자 분 [ 계 완 푼면이 간 발의 차로 (먼저) 나와서] 라면 이 간 발의 차로 앞으로 먼저 나와서 제 거 조금 늦게 드셨어요 먹는 타이밍 자체가 그래서 베스트 타이밍을 놓쳐버리는 바람에 최고의 맛을 잃어버렸다 그래서 좀 그렇게 변을 하고 싶습니다 [계 완 푼면이 원망스러운?] 그 럼 계완 푼면분한테 좀 뭔가 한 이 되는? 아뇨 아뇨 이 분은 이분의 길을 가신 거고 [누가 남 탓을 하리오]제가 잘못된 거죠 제가 저분의 전술을 미리 파악하지 못 한 - 왜냐하면 먼저 먼저 온 사람 거 먹으니까 - 암요 암 요 - 제 탓이 죠- 암요 암 요 저의 개인적인 생각은 초창기 신라면 먹었을 때 [충격의 도가니] 센세이션이 있었잖아요 \\'라면 이 어떻게 이런 맛 이 나지?\\' 농심에서 나온 신라면 [신라면 초창기가 생각났던 인사라타 라면] 그런 느낌처럼 표 고향이 확 나면서 [점수를 덜 드렸던 이유] 조금 덜 드렸던 이유는 [1. 생각하기 쉬운 조합] 조금만 생각하면 할 수 있는 조합이 다 [2. 누구나 상상할 조합] 상상할 수 있는 조합이었다 - 난 - 가슴을 후벼 파버리는데 아냐 아냐 진짜로 - 어쨌든 최고의 맛을 전해 드리 지 못 한 게 좀 아쉬워요- 아니에요 최고의 맛 좋았어요 - 좋았습니다- 맛은 좋았어요 - 수고 많으셨습니다 - 그럼 이 제 1등과 2 등만이 남았습니다 그러면 수란 라면이냐 계완 푼면이냐 [라면 왕 1화의 주인공은?] 1등은 요 바로! 100만 원 받잖아요 그렇죠 초대 라면 왕 1등은? 바로 ! 바로 ! 15초 뒤에 공개할게요 - 이 거 해 보고 싶었지?- 그렇죠  그렇죠 스 킵하지 마세요! [skip 불가]야 이 라면 정말 맛있는데 빽라면? [정말 맛있는] 빽라면 대충 끓여도 맛있는데? [정말 맛있는 / 대충 끓여도] 빽라면 이 거 안 끓여 먹어봤어? 놀랐죠? [정말 맛있는 / 대충 끓여도 / 놀라는 맛] 빽라면 대 놓고 앞 할 수 있는 이런 이런 느낌 아우 너무 좋아 [맛있는 빽라면] - 그리고 빽라면 이 맛있잖아- 맛있어요  또 [어느 회사든 제대로 홍보해 드립니다]- 이렇게 할 수 있는 거 우리 방송밖에 없어- 얼큰하고 좋습니다 다음부터 우리 여기다 라면을 붙여줘야 할 것 같아 [대환영 / contac t@tmcentkorea.co.kr] 여기도 다 PPL 가능하니까 요 넣어주세요 넣어주세요 뒤는 좀 싸요 [찰떡 호흡] 좋습니다 그러면 초대 라면 왕 대회 1등을 차지한 라면은  바로 바로! [ 계 완 푼면] [수란 라면] [1등 수란 라면] 수란 라면입니다 축 하드립니다! [축하드려요] 축하드립니다 네 x3 지금 제일 속상해 하시는 인사라타 라면 [하나도 안 속상해요]일단 네 [1등의 정체는 잠시 후에] 초대 1회 라면 왕을 차지하셨습니다 아쉽게도 2 등은 요 [2등 총점 8점] 총점 8점을 획득 한 [2등 계완 푼면] 계완 푼면을 만드신 분입니다 블라인드  올려주시길 바랍니다 [얼굴 공개] 축하드립니다 고 아쉽지만 그래도 [궁금]얼굴 봐야 해 얼굴 저는 경기도 부천에서 온 유승주라고 합니다 (우승 상금을 받았다면) 공부하는 중이어서 생활비 목적으로 쓰고 저축해야 죠 돈 모아서 결혼해야 하니까 결혼 예정일이 언제예요? 일단 신 부부터 먼저 찾고 먼저 (신부가) 있는지 물어봐 주실 줄 알았는데 아쉽게도 2 등을  차지하셨는데 [안타까] 기분이 어떠신지 근데 아까 걱정했던 게 심사위원 일반인 중 한 분이 라면 국물 탁해지는 거 싫어한다 그러셔서 라면 국물 탁해지잖아요! 탁해지면 싫어하는구나 [세상에] [하지만] [분식집 감성이 있고 계란에 풀어져 있어도 이 질감이 없어서 맛있었습니다] 나는 점수를 좀 준 거는 - 무슨 요리 전공하거나 이런 건 아니죠? - 네 왜냐하면  설탕이 [계란 맛을 극대화시키는 설탕] 계란의 맛을 확 올려주거든 [계란 요리에 소량의 설탕을 넣어보세요] 계란 말이 할 때나 계란찜 할 때 설탕을 좀 넣으면 빽라면의 장점이 [빽라면의 장점 : 칼칼함] 칼칼함이 팍 오잖아요 근데 이게 칼칼함을 별로 안 좋아하는 분들한테는 [설탕과 계란로 부드러을 잡은 계완 푼면] 설탕하고 계란을 잘 섞어서 넣으면 부드러워지거든  좋은 기회에 참여하게 돼서 너무 기분 좋고요 원가 싸고 만들기 쉬우니까 한 번씩 다들 드셔보세요 [감사해요] 네 계완 푼면 만드신 우리 도 전자분까지 들어봤습니다 그럼 대망의 1위 수란 라면 도전자분도 [얼굴 공개] 블라인드를 올려 주세요! [1등 - 총 11점] 수란 라면 의 이름으로 저는 이번에 라면 왕 경연대회에 출연하게 된 김헌식이라고 합니다 제 직업은  공항에서 \\'버드 스트라이크\\'라고 하는 [초등학교 3학년부터] 여동생이 배고프다고 하면 라면 끓여 다 주고 [착한 오빠 st] 간식 먹고 싶다 그러면 라면 끓여 다 주고 그래서 제가 지원할 때 여동생한테 끓여 다 갖다 준 라면 박스 수만 해도 엄청나다고 그렇게 적어놨었거든요 [라면 왕 뱃지 수여식] - 뱃지? - 뱃지 라면 왕 뱃지 갯수 하나당 액수가 확 올라가는 거죠 돈도  일단은 드립니다 축하합니다! 1000원 라면 제 1탄의 1등을 차지하셨습니다 축 하드립니다 다시 한 번 소감 말씀 부탁드릴게요 추억 쌓기 하려고 나온 건데 이렇게 1등을 하게 돼서 본의 아니게 1등을 하게 됐는데 참 영광이고 재밌었습니다 궁금해서 그러는데 [다른 라면 보다 시간이 더 걸렸던 수란 라면] 시간이 오래 걸렸잖아요 [의도 해서 타이밍을 맞추려고 한  건지?] 일부러 일부러 그런 거예요? 타이밍을 맞추려 그런 거예요 어떻게? 일부러 타이밍 저렇게 한 거면 [그렇다면 치밀함의 극강이 신 분]정말 잘 이렇게 엄청난 분이야 [일부러 의도 한 거예요?] 일부러 그런 거예요? 아니요 까먹었었는데요 뭔가 다 썰고 나니까 (뚜껑을) 열어보니까 어? 물이 없는 거예요 냄비에 봐요 여기 사심을 안 갖고 온 사람이 1등 하 잖아 (수란 라면) 드셔보셨을 때 어 떠셨어요 진짜? [수란 라면에 점수를 준 이유] 어디다가 난 점수를 줬냐면 이게 수란 만드는 게 생각보다 쉽진 않아 요 노른자가 완전 익어버리거나 [적절하게 익히는 정도가 중요] 아니면 너무 덜 익어서 푸다가 터지거나 그게 기술적인 테크닉적인 게 좀 많이 좌우를 했던 것 같고 전략이 아니라지만 제일 마지막에 독단적으로 첫  번째 라면을 맛볼 수 있었던 게 [이것이 바로 될 놈될] 좋습니다 [선택의 순간] 이제 선택의 순간이 다가 왔습니다 [100만 원] 여기서 100만 원을 받고 도전을 멈출지 [연승 도전] 아니면 계속해서 연승에 도전을 할지 여기서 연승에 도전하면 100만 원이 들어와서 200만 원이 되는 게 아니라 300이 되는 거예요 100만 원의 상금을 받고 여기서 도전을 멈 추고 싶다 하시면 [STOP이냐] 스탑을 외쳐 주시면 되고요 계속해서 연승에 도전하시겠다 하면 [도전이냐] 도전을 외쳐 주시겠습니다 라면 왕에 계속 도전하시겠습니까? - 스탑하겠습니다- 스탑 - 스탑 하겠습니다- 스탑 [부럽지 않아 난 그저 축하 할 뿐]- 좋습니다 그러면- 나이스 100만 원의 상금을 받아 가시는 걸로 여기서 끝내도록 하겠습니다 - 아우 축하드립 니다- 축하드립니다 축하드립니다 [교통비도 없는 거야] 나머지 두 분은 차비도 안 드리는 거야 [는 아니고 빽라면 한 박스씩!]- 라면 한 박스씩 드리는 걸로 - 네 알겠습니다 [인증] 이렇게 해서 라면 왕 1000원의 라면 1탄의 대결이 모두 끝났습니다 이제 마지막으로 라면 왕과 빽라면 이 함께 준비한 통 큰 이벤트 저희가 소개해 드리도록 하겠습니다 [잠시 후에  수란 라면 레시피가 공개됩니다] 앞으로 백종원 채널에 회차별 1등의 레시피가 공개될 텐데 요 오늘 수란 라면의 어떤 레시피처럼 요 이렇게 1등 레시피대로 [유튜브 쇼츠, 인스타, 틱톡 등등]빽라면을 끓여서 쇼츠나 인스타, 틱톡 등 영상 올려주시면요 [#라면 왕 #백종원 #빽라면 해시태그 필수] 추첨을 통해서 저희가 - 맞습니까?- 네 100박스 100분에게 1 00분에게 빽라면 1 박스를 드리도록 하겠습니다 자세한 내용은 백종원 채널 커뮤니티를 참고해 주시길 바라겠습니다 라면 왕 도전은 계속됩니다 계속됩니다 파이팅 ! 수고하셨습니다 축 하드립니다! 잠깐 - 중요한 걸 빼먹었네! (아차차)] - 어떤 거요? [대환영 / contac t@tmcentkorea.co.kr] 어느 라면 회사든 ! [어느 부 재료든 ! / 조미료든 그  무엇도 괜찮!] 아니면 라면에 들어가는 부재료든 협찬 받습니다 [라면 왕 1화 우승! 수란 라면 레시피 공개!] [\\'수란 라면 재료 \\' / 후추 34g / 다진 마늘 2.3g / 청양고추 5g / 고춧가루 0.5g / 계란 1개 / 참치액젓 3.6g / 물 450ml / 대파 34.4g / 빽라면] 물 450ml 넣고 물이 끓으면 면, 분말 스프, 후레이크 넣어 주세요 면이 익으면 그릇에 건져내세요! 국물에 다진 마늘, 후추 고춧가루, 청양고추, 참치액젓 넣고 양념한 국물에 계란을 살포시 넣어 수란을 만들어 주세요! [Tip 계란이 국물에 잠길 수 있게 냄비를 살짝 기울여주는 것이 포인트!] 노른자가 반쯤 익으면 건져낸 면에 국물, 수란 부어주고 대파로 토핑하면 완성! 부드럽고 촉촉한 수란 라면 완성입니다! 참  쉽죠?\"]',\n",
       " 'reference': '인사라타 라면의 조리 과정은 다음과 같습니다. 먼저, 물을 끓이고 다진 마늘, 건표고버섯, 대파를 준비합니다. 대파는 썰어주고, 모든 재료를 한 번에 넣어 끓입니다. 이후, 라면을 넣고 조리하여 면이 익으면 그릇에 건져냅니다. 마지막으로, 국물에 다진 마늘, 후추, 고춧가루, 청양고추, 참치액젓을 넣고 양념한 후, 계란을 살포시 넣어 수란을 만들어 줍니다. 노른자가 반쯤 익으면 건져낸 면에 국물과 수란을 부어주고 대파로 토핑하면 인사라타 라면이 완성됩니다.',\n",
       " 'text': \"\\nYou are an expert AI chef.  \\nBased on the user's provided ingredients, cooking tools, and available time, search **only within the given recipe dataset** and recommend **exactly one** recipe that best matches the user's input.  \\nRespond **in Korean** and follow the format **exactly as shown below**. Do not include any additional explanations or extra content.\\n\\nIf a matching recipe is found, respond using the following format:\\n---\\n요리 이름: <Recipe Name>  \\n재료: <List of Ingredients>  \\n요리 시간: <Cooking Time>  \\n도구: <List of Tools>  \\n요리 방법:  \\n1. <Step 1>  \\n2. <Step 2>  \\n3. ...  \\n---\\n\\nHere is an example output:\\n---\\n요리 이름: 계란 프라이  \\n재료: 계란, 식용유, 소금  \\n요리 시간: 5분  \\n도구: 프라이팬, 가스레인지  \\n요리 방법:  \\n1. 프라이팬에 식용유를 두르고 달굽니다.  \\n2. 계란을 깨뜨려 넣고 익힙니다.  \\n3. 소금을 뿌려 마무리합니다.  \\n---\\n\\n### User Input:\\n인사라타 라면의 조리 과정은 어떻게 되나요?\\n\\n### Response:\\n인사라타 라면의 조리 과정은 다음과 같습니다. 먼저, 물을 끓이고 다진 마늘, 건표고버섯, 대파를 준비합니다. 대파는 썰어주고, 모든 재료를 한 번에 넣어 끓입니다. 이후, 라면을 넣고 조리하여 면이 익으면 그릇에 건져냅니다. 마지막으로, 국물에 다진 마늘, 후추, 고춧가루, 청양고추, 참치액젓을 넣고 양념한 후, 계란을 살포시 넣어 수란을 만들어 줍니다. 노른자가 반쯤 익으면 건져낸 면에 국물과 수란을 부어주고 대파로 토핑하면 인사라타 라면이 완성됩니다.\\n<end_of_turn>\"}"
      ]
     },
     "execution_count": 8,
     "metadata": {},
     "output_type": "execute_result"
    }
   ],
   "source": [
    "dataset[0]"
   ]
  },
  {
   "cell_type": "code",
   "execution_count": 9,
   "metadata": {
    "id": "0hoIrLnLqGEU"
   },
   "outputs": [
    {
     "data": {
      "application/vnd.jupyter.widget-view+json": {
       "model_id": "064d5a86cdfc478793ae1f9924a1d7e9",
       "version_major": 2,
       "version_minor": 0
      },
      "text/plain": [
       "Unsloth: Tokenizing [\"text\"] (num_proc=2):   0%|          | 0/1629 [00:00<?, ? examples/s]"
      ]
     },
     "metadata": {},
     "output_type": "display_data"
    }
   ],
   "source": [
    "from trl import SFTTrainer, SFTConfig\n",
    "\n",
    "tokenizer.padding_side = \"right\"  # 토크나이저의 패딩을 오른쪽으로 설정합니다.\n",
    "\n",
    "# SFTTrainer를 사용하여 모델 학습 설정\n",
    "trainer = SFTTrainer(\n",
    "    model=model,  # 학습할 모델\n",
    "    tokenizer=tokenizer,  # 토크나이저\n",
    "    train_dataset=dataset,  # 학습 데이터셋\n",
    "    eval_dataset=dataset,   # 테디노트에서 추가된 eval dataset\n",
    "    dataset_text_field=\"text\",  # 데이터셋에서 텍스트 필드의 이름\n",
    "    dataset_num_proc=2,  # 데이터 처리에 사용할 프로세스 수\n",
    "    packing=False,  # 짧은 시퀀스에 대한 학습 속도를 5배 빠르게 할 수 있음\n",
    "    args=SFTConfig(\n",
    "        max_seq_length=2048,  # 최대 시퀀스 길이\n",
    "        per_device_train_batch_size=4,  # 각 디바이스당 훈련 배치 크기\n",
    "        gradient_accumulation_steps=8,  # 그래디언트 누적 단계\n",
    "        warmup_steps=100,  # 웜업 스텝 수\n",
    "        num_train_epochs=50,  # 훈련 에폭 수\n",
    "        max_steps=2000,  # 최대 스텝 수 # 공식문서에는 60\n",
    "        logging_steps=10,  # logging 스텝 수\n",
    "        learning_rate=2e-4,  # 학습률\n",
    "        fp16=not torch.cuda.is_bf16_supported(),  # fp16 사용 여부, bf16이 지원되지 않는 경우에만 사용\n",
    "        bf16=torch.cuda.is_bf16_supported(),  # bf16 사용 여부, bf16이 지원되는 경우에만 사용\n",
    "        optim=\"adamw_8bit\",  # 최적화 알고리즘\n",
    "        weight_decay=0.01,  # 가중치 감소\n",
    "        lr_scheduler_type=\"cosine\",  # 학습률 스케줄러 유형 # 공식은 linear\n",
    "        seed=123,  # 랜덤 시드 # 공식은 3407\n",
    "        output_dir=\"outputs\",  # 출력 디렉토리\n",
    "    ),\n",
    ")"
   ]
  },
  {
   "cell_type": "markdown",
   "metadata": {
    "id": "S10oqKeHvFa7"
   },
   "source": [
    "## Train"
   ]
  },
  {
   "cell_type": "code",
   "execution_count": 10,
   "metadata": {
    "colab": {
     "base_uri": "https://localhost:8080/"
    },
    "executionInfo": {
     "elapsed": 6,
     "status": "ok",
     "timestamp": 1743497055866,
     "user": {
      "displayName": "조경원",
      "userId": "10205523497785796707"
     },
     "user_tz": -540
    },
    "id": "IwdwGwC0qGG8",
    "outputId": "db75cdbc-6dde-4dbd-ee10-2eeda167cb6b"
   },
   "outputs": [
    {
     "name": "stdout",
     "output_type": "stream",
     "text": [
      "GPU = NVIDIA A40. Max memory = 44.339 GB.\n",
      "4.732 GB of memory reserved.\n"
     ]
    }
   ],
   "source": [
    "# @title Show current memory stats\n",
    "gpu_stats = torch.cuda.get_device_properties(0)\n",
    "start_gpu_memory = round(torch.cuda.max_memory_reserved() / 1024 / 1024 / 1024, 3)\n",
    "max_memory = round(gpu_stats.total_memory / 1024 / 1024 / 1024, 3)\n",
    "print(f\"GPU = {gpu_stats.name}. Max memory = {max_memory} GB.\")\n",
    "print(f\"{start_gpu_memory} GB of memory reserved.\")"
   ]
  },
  {
   "cell_type": "code",
   "execution_count": 11,
   "metadata": {
    "colab": {
     "base_uri": "https://localhost:8080/",
     "height": 1000
    },
    "executionInfo": {
     "elapsed": 304348,
     "status": "ok",
     "timestamp": 1743497360215,
     "user": {
      "displayName": "조경원",
      "userId": "10205523497785796707"
     },
     "user_tz": -540
    },
    "id": "5CflLQtEqGJ6",
    "outputId": "5bc696cd-893e-40fe-fa96-f9cca7725a9c",
    "scrolled": true
   },
   "outputs": [
    {
     "name": "stderr",
     "output_type": "stream",
     "text": [
      "==((====))==  Unsloth - 2x faster free finetuning | Num GPUs used = 1\n",
      "   \\\\   /|    Num examples = 1,629 | Num Epochs = 40 | Total steps = 2,000\n",
      "O^O/ \\_/ \\    Batch size per device = 4 | Gradient accumulation steps = 8\n",
      "\\        /    Data Parallel GPUs = 1 | Total batch size (4 x 8 x 1) = 32\n",
      " \"-____-\"     Trainable parameters = 119,209,984/4,000,000,000 (2.98% trained)\n",
      "`use_cache=True` is incompatible with gradient checkpointing. Setting `use_cache=False`.\n"
     ]
    },
    {
     "name": "stdout",
     "output_type": "stream",
     "text": [
      "Unsloth: Will smartly offload gradients to save VRAM!\n"
     ]
    },
    {
     "data": {
      "text/html": [
       "\n",
       "    <div>\n",
       "      \n",
       "      <progress value='2000' max='2000' style='width:300px; height:20px; vertical-align: middle;'></progress>\n",
       "      [2000/2000 3:26:04, Epoch 39/40]\n",
       "    </div>\n",
       "    <table border=\"1\" class=\"dataframe\">\n",
       "  <thead>\n",
       " <tr style=\"text-align: left;\">\n",
       "      <th>Step</th>\n",
       "      <th>Training Loss</th>\n",
       "    </tr>\n",
       "  </thead>\n",
       "  <tbody>\n",
       "    <tr>\n",
       "      <td>10</td>\n",
       "      <td>2.153100</td>\n",
       "    </tr>\n",
       "    <tr>\n",
       "      <td>20</td>\n",
       "      <td>1.231400</td>\n",
       "    </tr>\n",
       "    <tr>\n",
       "      <td>30</td>\n",
       "      <td>0.626500</td>\n",
       "    </tr>\n",
       "    <tr>\n",
       "      <td>40</td>\n",
       "      <td>0.466200</td>\n",
       "    </tr>\n",
       "    <tr>\n",
       "      <td>50</td>\n",
       "      <td>0.420600</td>\n",
       "    </tr>\n",
       "    <tr>\n",
       "      <td>60</td>\n",
       "      <td>0.391700</td>\n",
       "    </tr>\n",
       "    <tr>\n",
       "      <td>70</td>\n",
       "      <td>0.373000</td>\n",
       "    </tr>\n",
       "    <tr>\n",
       "      <td>80</td>\n",
       "      <td>0.372200</td>\n",
       "    </tr>\n",
       "    <tr>\n",
       "      <td>90</td>\n",
       "      <td>0.347500</td>\n",
       "    </tr>\n",
       "    <tr>\n",
       "      <td>100</td>\n",
       "      <td>0.362700</td>\n",
       "    </tr>\n",
       "    <tr>\n",
       "      <td>110</td>\n",
       "      <td>0.313600</td>\n",
       "    </tr>\n",
       "    <tr>\n",
       "      <td>120</td>\n",
       "      <td>0.296400</td>\n",
       "    </tr>\n",
       "    <tr>\n",
       "      <td>130</td>\n",
       "      <td>0.308000</td>\n",
       "    </tr>\n",
       "    <tr>\n",
       "      <td>140</td>\n",
       "      <td>0.302800</td>\n",
       "    </tr>\n",
       "    <tr>\n",
       "      <td>150</td>\n",
       "      <td>0.303000</td>\n",
       "    </tr>\n",
       "    <tr>\n",
       "      <td>160</td>\n",
       "      <td>0.262000</td>\n",
       "    </tr>\n",
       "    <tr>\n",
       "      <td>170</td>\n",
       "      <td>0.237900</td>\n",
       "    </tr>\n",
       "    <tr>\n",
       "      <td>180</td>\n",
       "      <td>0.234500</td>\n",
       "    </tr>\n",
       "    <tr>\n",
       "      <td>190</td>\n",
       "      <td>0.247400</td>\n",
       "    </tr>\n",
       "    <tr>\n",
       "      <td>200</td>\n",
       "      <td>0.236800</td>\n",
       "    </tr>\n",
       "    <tr>\n",
       "      <td>210</td>\n",
       "      <td>0.201600</td>\n",
       "    </tr>\n",
       "    <tr>\n",
       "      <td>220</td>\n",
       "      <td>0.177800</td>\n",
       "    </tr>\n",
       "    <tr>\n",
       "      <td>230</td>\n",
       "      <td>0.173300</td>\n",
       "    </tr>\n",
       "    <tr>\n",
       "      <td>240</td>\n",
       "      <td>0.184800</td>\n",
       "    </tr>\n",
       "    <tr>\n",
       "      <td>250</td>\n",
       "      <td>0.193400</td>\n",
       "    </tr>\n",
       "    <tr>\n",
       "      <td>260</td>\n",
       "      <td>0.156700</td>\n",
       "    </tr>\n",
       "    <tr>\n",
       "      <td>270</td>\n",
       "      <td>0.123700</td>\n",
       "    </tr>\n",
       "    <tr>\n",
       "      <td>280</td>\n",
       "      <td>0.133800</td>\n",
       "    </tr>\n",
       "    <tr>\n",
       "      <td>290</td>\n",
       "      <td>0.140000</td>\n",
       "    </tr>\n",
       "    <tr>\n",
       "      <td>300</td>\n",
       "      <td>0.136900</td>\n",
       "    </tr>\n",
       "    <tr>\n",
       "      <td>310</td>\n",
       "      <td>0.118000</td>\n",
       "    </tr>\n",
       "    <tr>\n",
       "      <td>320</td>\n",
       "      <td>0.085500</td>\n",
       "    </tr>\n",
       "    <tr>\n",
       "      <td>330</td>\n",
       "      <td>0.113800</td>\n",
       "    </tr>\n",
       "    <tr>\n",
       "      <td>340</td>\n",
       "      <td>0.102000</td>\n",
       "    </tr>\n",
       "    <tr>\n",
       "      <td>350</td>\n",
       "      <td>0.109800</td>\n",
       "    </tr>\n",
       "    <tr>\n",
       "      <td>360</td>\n",
       "      <td>0.094000</td>\n",
       "    </tr>\n",
       "    <tr>\n",
       "      <td>370</td>\n",
       "      <td>0.070800</td>\n",
       "    </tr>\n",
       "    <tr>\n",
       "      <td>380</td>\n",
       "      <td>0.076700</td>\n",
       "    </tr>\n",
       "    <tr>\n",
       "      <td>390</td>\n",
       "      <td>0.073000</td>\n",
       "    </tr>\n",
       "    <tr>\n",
       "      <td>400</td>\n",
       "      <td>0.074700</td>\n",
       "    </tr>\n",
       "    <tr>\n",
       "      <td>410</td>\n",
       "      <td>0.072500</td>\n",
       "    </tr>\n",
       "    <tr>\n",
       "      <td>420</td>\n",
       "      <td>0.054200</td>\n",
       "    </tr>\n",
       "    <tr>\n",
       "      <td>430</td>\n",
       "      <td>0.057600</td>\n",
       "    </tr>\n",
       "    <tr>\n",
       "      <td>440</td>\n",
       "      <td>0.057700</td>\n",
       "    </tr>\n",
       "    <tr>\n",
       "      <td>450</td>\n",
       "      <td>0.058000</td>\n",
       "    </tr>\n",
       "    <tr>\n",
       "      <td>460</td>\n",
       "      <td>0.057300</td>\n",
       "    </tr>\n",
       "    <tr>\n",
       "      <td>470</td>\n",
       "      <td>0.042300</td>\n",
       "    </tr>\n",
       "    <tr>\n",
       "      <td>480</td>\n",
       "      <td>0.045000</td>\n",
       "    </tr>\n",
       "    <tr>\n",
       "      <td>490</td>\n",
       "      <td>0.045500</td>\n",
       "    </tr>\n",
       "    <tr>\n",
       "      <td>500</td>\n",
       "      <td>0.048700</td>\n",
       "    </tr>\n",
       "    <tr>\n",
       "      <td>510</td>\n",
       "      <td>0.047900</td>\n",
       "    </tr>\n",
       "    <tr>\n",
       "      <td>520</td>\n",
       "      <td>0.037200</td>\n",
       "    </tr>\n",
       "    <tr>\n",
       "      <td>530</td>\n",
       "      <td>0.037900</td>\n",
       "    </tr>\n",
       "    <tr>\n",
       "      <td>540</td>\n",
       "      <td>0.041800</td>\n",
       "    </tr>\n",
       "    <tr>\n",
       "      <td>550</td>\n",
       "      <td>0.041800</td>\n",
       "    </tr>\n",
       "    <tr>\n",
       "      <td>560</td>\n",
       "      <td>0.042900</td>\n",
       "    </tr>\n",
       "    <tr>\n",
       "      <td>570</td>\n",
       "      <td>0.033700</td>\n",
       "    </tr>\n",
       "    <tr>\n",
       "      <td>580</td>\n",
       "      <td>0.036300</td>\n",
       "    </tr>\n",
       "    <tr>\n",
       "      <td>590</td>\n",
       "      <td>0.036000</td>\n",
       "    </tr>\n",
       "    <tr>\n",
       "      <td>600</td>\n",
       "      <td>0.037000</td>\n",
       "    </tr>\n",
       "    <tr>\n",
       "      <td>610</td>\n",
       "      <td>0.038300</td>\n",
       "    </tr>\n",
       "    <tr>\n",
       "      <td>620</td>\n",
       "      <td>0.034300</td>\n",
       "    </tr>\n",
       "    <tr>\n",
       "      <td>630</td>\n",
       "      <td>0.032800</td>\n",
       "    </tr>\n",
       "    <tr>\n",
       "      <td>640</td>\n",
       "      <td>0.035800</td>\n",
       "    </tr>\n",
       "    <tr>\n",
       "      <td>650</td>\n",
       "      <td>0.035200</td>\n",
       "    </tr>\n",
       "    <tr>\n",
       "      <td>660</td>\n",
       "      <td>0.037400</td>\n",
       "    </tr>\n",
       "    <tr>\n",
       "      <td>670</td>\n",
       "      <td>0.031800</td>\n",
       "    </tr>\n",
       "    <tr>\n",
       "      <td>680</td>\n",
       "      <td>0.032200</td>\n",
       "    </tr>\n",
       "    <tr>\n",
       "      <td>690</td>\n",
       "      <td>0.034900</td>\n",
       "    </tr>\n",
       "    <tr>\n",
       "      <td>700</td>\n",
       "      <td>0.033300</td>\n",
       "    </tr>\n",
       "    <tr>\n",
       "      <td>710</td>\n",
       "      <td>0.033200</td>\n",
       "    </tr>\n",
       "    <tr>\n",
       "      <td>720</td>\n",
       "      <td>0.030100</td>\n",
       "    </tr>\n",
       "    <tr>\n",
       "      <td>730</td>\n",
       "      <td>0.028900</td>\n",
       "    </tr>\n",
       "    <tr>\n",
       "      <td>740</td>\n",
       "      <td>0.029700</td>\n",
       "    </tr>\n",
       "    <tr>\n",
       "      <td>750</td>\n",
       "      <td>0.030800</td>\n",
       "    </tr>\n",
       "    <tr>\n",
       "      <td>760</td>\n",
       "      <td>0.030600</td>\n",
       "    </tr>\n",
       "    <tr>\n",
       "      <td>770</td>\n",
       "      <td>0.028700</td>\n",
       "    </tr>\n",
       "    <tr>\n",
       "      <td>780</td>\n",
       "      <td>0.026900</td>\n",
       "    </tr>\n",
       "    <tr>\n",
       "      <td>790</td>\n",
       "      <td>0.028400</td>\n",
       "    </tr>\n",
       "    <tr>\n",
       "      <td>800</td>\n",
       "      <td>0.028900</td>\n",
       "    </tr>\n",
       "    <tr>\n",
       "      <td>810</td>\n",
       "      <td>0.029900</td>\n",
       "    </tr>\n",
       "    <tr>\n",
       "      <td>820</td>\n",
       "      <td>0.027000</td>\n",
       "    </tr>\n",
       "    <tr>\n",
       "      <td>830</td>\n",
       "      <td>0.025500</td>\n",
       "    </tr>\n",
       "    <tr>\n",
       "      <td>840</td>\n",
       "      <td>0.033100</td>\n",
       "    </tr>\n",
       "    <tr>\n",
       "      <td>850</td>\n",
       "      <td>0.028100</td>\n",
       "    </tr>\n",
       "    <tr>\n",
       "      <td>860</td>\n",
       "      <td>0.028200</td>\n",
       "    </tr>\n",
       "    <tr>\n",
       "      <td>870</td>\n",
       "      <td>0.028200</td>\n",
       "    </tr>\n",
       "    <tr>\n",
       "      <td>880</td>\n",
       "      <td>0.024500</td>\n",
       "    </tr>\n",
       "    <tr>\n",
       "      <td>890</td>\n",
       "      <td>0.025800</td>\n",
       "    </tr>\n",
       "    <tr>\n",
       "      <td>900</td>\n",
       "      <td>0.026100</td>\n",
       "    </tr>\n",
       "    <tr>\n",
       "      <td>910</td>\n",
       "      <td>0.027000</td>\n",
       "    </tr>\n",
       "    <tr>\n",
       "      <td>920</td>\n",
       "      <td>0.026400</td>\n",
       "    </tr>\n",
       "    <tr>\n",
       "      <td>930</td>\n",
       "      <td>0.023600</td>\n",
       "    </tr>\n",
       "    <tr>\n",
       "      <td>940</td>\n",
       "      <td>0.024200</td>\n",
       "    </tr>\n",
       "    <tr>\n",
       "      <td>950</td>\n",
       "      <td>0.025100</td>\n",
       "    </tr>\n",
       "    <tr>\n",
       "      <td>960</td>\n",
       "      <td>0.025800</td>\n",
       "    </tr>\n",
       "    <tr>\n",
       "      <td>970</td>\n",
       "      <td>0.025700</td>\n",
       "    </tr>\n",
       "    <tr>\n",
       "      <td>980</td>\n",
       "      <td>0.023900</td>\n",
       "    </tr>\n",
       "    <tr>\n",
       "      <td>990</td>\n",
       "      <td>0.023800</td>\n",
       "    </tr>\n",
       "    <tr>\n",
       "      <td>1000</td>\n",
       "      <td>0.024700</td>\n",
       "    </tr>\n",
       "    <tr>\n",
       "      <td>1010</td>\n",
       "      <td>0.025400</td>\n",
       "    </tr>\n",
       "    <tr>\n",
       "      <td>1020</td>\n",
       "      <td>0.025500</td>\n",
       "    </tr>\n",
       "    <tr>\n",
       "      <td>1030</td>\n",
       "      <td>0.022600</td>\n",
       "    </tr>\n",
       "    <tr>\n",
       "      <td>1040</td>\n",
       "      <td>0.025900</td>\n",
       "    </tr>\n",
       "    <tr>\n",
       "      <td>1050</td>\n",
       "      <td>0.026100</td>\n",
       "    </tr>\n",
       "    <tr>\n",
       "      <td>1060</td>\n",
       "      <td>0.025700</td>\n",
       "    </tr>\n",
       "    <tr>\n",
       "      <td>1070</td>\n",
       "      <td>0.025700</td>\n",
       "    </tr>\n",
       "    <tr>\n",
       "      <td>1080</td>\n",
       "      <td>0.023400</td>\n",
       "    </tr>\n",
       "    <tr>\n",
       "      <td>1090</td>\n",
       "      <td>0.023500</td>\n",
       "    </tr>\n",
       "    <tr>\n",
       "      <td>1100</td>\n",
       "      <td>0.024800</td>\n",
       "    </tr>\n",
       "    <tr>\n",
       "      <td>1110</td>\n",
       "      <td>0.025100</td>\n",
       "    </tr>\n",
       "    <tr>\n",
       "      <td>1120</td>\n",
       "      <td>0.024900</td>\n",
       "    </tr>\n",
       "    <tr>\n",
       "      <td>1130</td>\n",
       "      <td>0.022700</td>\n",
       "    </tr>\n",
       "    <tr>\n",
       "      <td>1140</td>\n",
       "      <td>0.022700</td>\n",
       "    </tr>\n",
       "    <tr>\n",
       "      <td>1150</td>\n",
       "      <td>0.023100</td>\n",
       "    </tr>\n",
       "    <tr>\n",
       "      <td>1160</td>\n",
       "      <td>0.023700</td>\n",
       "    </tr>\n",
       "    <tr>\n",
       "      <td>1170</td>\n",
       "      <td>0.024800</td>\n",
       "    </tr>\n",
       "    <tr>\n",
       "      <td>1180</td>\n",
       "      <td>0.022600</td>\n",
       "    </tr>\n",
       "    <tr>\n",
       "      <td>1190</td>\n",
       "      <td>0.022800</td>\n",
       "    </tr>\n",
       "    <tr>\n",
       "      <td>1200</td>\n",
       "      <td>0.023200</td>\n",
       "    </tr>\n",
       "    <tr>\n",
       "      <td>1210</td>\n",
       "      <td>0.023700</td>\n",
       "    </tr>\n",
       "    <tr>\n",
       "      <td>1220</td>\n",
       "      <td>0.024200</td>\n",
       "    </tr>\n",
       "    <tr>\n",
       "      <td>1230</td>\n",
       "      <td>0.022600</td>\n",
       "    </tr>\n",
       "    <tr>\n",
       "      <td>1240</td>\n",
       "      <td>0.022300</td>\n",
       "    </tr>\n",
       "    <tr>\n",
       "      <td>1250</td>\n",
       "      <td>0.022400</td>\n",
       "    </tr>\n",
       "    <tr>\n",
       "      <td>1260</td>\n",
       "      <td>0.023300</td>\n",
       "    </tr>\n",
       "    <tr>\n",
       "      <td>1270</td>\n",
       "      <td>0.023400</td>\n",
       "    </tr>\n",
       "    <tr>\n",
       "      <td>1280</td>\n",
       "      <td>0.022900</td>\n",
       "    </tr>\n",
       "    <tr>\n",
       "      <td>1290</td>\n",
       "      <td>0.022100</td>\n",
       "    </tr>\n",
       "    <tr>\n",
       "      <td>1300</td>\n",
       "      <td>0.022600</td>\n",
       "    </tr>\n",
       "    <tr>\n",
       "      <td>1310</td>\n",
       "      <td>0.023100</td>\n",
       "    </tr>\n",
       "    <tr>\n",
       "      <td>1320</td>\n",
       "      <td>0.023500</td>\n",
       "    </tr>\n",
       "    <tr>\n",
       "      <td>1330</td>\n",
       "      <td>0.022800</td>\n",
       "    </tr>\n",
       "    <tr>\n",
       "      <td>1340</td>\n",
       "      <td>0.022000</td>\n",
       "    </tr>\n",
       "    <tr>\n",
       "      <td>1350</td>\n",
       "      <td>0.021500</td>\n",
       "    </tr>\n",
       "    <tr>\n",
       "      <td>1360</td>\n",
       "      <td>0.024800</td>\n",
       "    </tr>\n",
       "    <tr>\n",
       "      <td>1370</td>\n",
       "      <td>0.023500</td>\n",
       "    </tr>\n",
       "    <tr>\n",
       "      <td>1380</td>\n",
       "      <td>0.022700</td>\n",
       "    </tr>\n",
       "    <tr>\n",
       "      <td>1390</td>\n",
       "      <td>0.021300</td>\n",
       "    </tr>\n",
       "    <tr>\n",
       "      <td>1400</td>\n",
       "      <td>0.022300</td>\n",
       "    </tr>\n",
       "    <tr>\n",
       "      <td>1410</td>\n",
       "      <td>0.022500</td>\n",
       "    </tr>\n",
       "    <tr>\n",
       "      <td>1420</td>\n",
       "      <td>0.022700</td>\n",
       "    </tr>\n",
       "    <tr>\n",
       "      <td>1430</td>\n",
       "      <td>0.022900</td>\n",
       "    </tr>\n",
       "    <tr>\n",
       "      <td>1440</td>\n",
       "      <td>0.021900</td>\n",
       "    </tr>\n",
       "    <tr>\n",
       "      <td>1450</td>\n",
       "      <td>0.021800</td>\n",
       "    </tr>\n",
       "    <tr>\n",
       "      <td>1460</td>\n",
       "      <td>0.022300</td>\n",
       "    </tr>\n",
       "    <tr>\n",
       "      <td>1470</td>\n",
       "      <td>0.022400</td>\n",
       "    </tr>\n",
       "    <tr>\n",
       "      <td>1480</td>\n",
       "      <td>0.022700</td>\n",
       "    </tr>\n",
       "    <tr>\n",
       "      <td>1490</td>\n",
       "      <td>0.021500</td>\n",
       "    </tr>\n",
       "    <tr>\n",
       "      <td>1500</td>\n",
       "      <td>0.021500</td>\n",
       "    </tr>\n",
       "    <tr>\n",
       "      <td>1510</td>\n",
       "      <td>0.021900</td>\n",
       "    </tr>\n",
       "    <tr>\n",
       "      <td>1520</td>\n",
       "      <td>0.022300</td>\n",
       "    </tr>\n",
       "    <tr>\n",
       "      <td>1530</td>\n",
       "      <td>0.022600</td>\n",
       "    </tr>\n",
       "    <tr>\n",
       "      <td>1540</td>\n",
       "      <td>0.020800</td>\n",
       "    </tr>\n",
       "    <tr>\n",
       "      <td>1550</td>\n",
       "      <td>0.021600</td>\n",
       "    </tr>\n",
       "    <tr>\n",
       "      <td>1560</td>\n",
       "      <td>0.021900</td>\n",
       "    </tr>\n",
       "    <tr>\n",
       "      <td>1570</td>\n",
       "      <td>0.022400</td>\n",
       "    </tr>\n",
       "    <tr>\n",
       "      <td>1580</td>\n",
       "      <td>0.022700</td>\n",
       "    </tr>\n",
       "    <tr>\n",
       "      <td>1590</td>\n",
       "      <td>0.021300</td>\n",
       "    </tr>\n",
       "    <tr>\n",
       "      <td>1600</td>\n",
       "      <td>0.021400</td>\n",
       "    </tr>\n",
       "    <tr>\n",
       "      <td>1610</td>\n",
       "      <td>0.022000</td>\n",
       "    </tr>\n",
       "    <tr>\n",
       "      <td>1620</td>\n",
       "      <td>0.022000</td>\n",
       "    </tr>\n",
       "    <tr>\n",
       "      <td>1630</td>\n",
       "      <td>0.022000</td>\n",
       "    </tr>\n",
       "    <tr>\n",
       "      <td>1640</td>\n",
       "      <td>0.021200</td>\n",
       "    </tr>\n",
       "    <tr>\n",
       "      <td>1650</td>\n",
       "      <td>0.020700</td>\n",
       "    </tr>\n",
       "    <tr>\n",
       "      <td>1660</td>\n",
       "      <td>0.021600</td>\n",
       "    </tr>\n",
       "    <tr>\n",
       "      <td>1670</td>\n",
       "      <td>0.021700</td>\n",
       "    </tr>\n",
       "    <tr>\n",
       "      <td>1680</td>\n",
       "      <td>0.021700</td>\n",
       "    </tr>\n",
       "    <tr>\n",
       "      <td>1690</td>\n",
       "      <td>0.021300</td>\n",
       "    </tr>\n",
       "    <tr>\n",
       "      <td>1700</td>\n",
       "      <td>0.021300</td>\n",
       "    </tr>\n",
       "    <tr>\n",
       "      <td>1710</td>\n",
       "      <td>0.021100</td>\n",
       "    </tr>\n",
       "    <tr>\n",
       "      <td>1720</td>\n",
       "      <td>0.021400</td>\n",
       "    </tr>\n",
       "    <tr>\n",
       "      <td>1730</td>\n",
       "      <td>0.021400</td>\n",
       "    </tr>\n",
       "    <tr>\n",
       "      <td>1740</td>\n",
       "      <td>0.021200</td>\n",
       "    </tr>\n",
       "    <tr>\n",
       "      <td>1750</td>\n",
       "      <td>0.020600</td>\n",
       "    </tr>\n",
       "    <tr>\n",
       "      <td>1760</td>\n",
       "      <td>0.021200</td>\n",
       "    </tr>\n",
       "    <tr>\n",
       "      <td>1770</td>\n",
       "      <td>0.021000</td>\n",
       "    </tr>\n",
       "    <tr>\n",
       "      <td>1780</td>\n",
       "      <td>0.021400</td>\n",
       "    </tr>\n",
       "    <tr>\n",
       "      <td>1790</td>\n",
       "      <td>0.021300</td>\n",
       "    </tr>\n",
       "    <tr>\n",
       "      <td>1800</td>\n",
       "      <td>0.021100</td>\n",
       "    </tr>\n",
       "    <tr>\n",
       "      <td>1810</td>\n",
       "      <td>0.020800</td>\n",
       "    </tr>\n",
       "    <tr>\n",
       "      <td>1820</td>\n",
       "      <td>0.021000</td>\n",
       "    </tr>\n",
       "    <tr>\n",
       "      <td>1830</td>\n",
       "      <td>0.021000</td>\n",
       "    </tr>\n",
       "    <tr>\n",
       "      <td>1840</td>\n",
       "      <td>0.020800</td>\n",
       "    </tr>\n",
       "    <tr>\n",
       "      <td>1850</td>\n",
       "      <td>0.020600</td>\n",
       "    </tr>\n",
       "    <tr>\n",
       "      <td>1860</td>\n",
       "      <td>0.020800</td>\n",
       "    </tr>\n",
       "    <tr>\n",
       "      <td>1870</td>\n",
       "      <td>0.020800</td>\n",
       "    </tr>\n",
       "    <tr>\n",
       "      <td>1880</td>\n",
       "      <td>0.020900</td>\n",
       "    </tr>\n",
       "    <tr>\n",
       "      <td>1890</td>\n",
       "      <td>0.021100</td>\n",
       "    </tr>\n",
       "    <tr>\n",
       "      <td>1900</td>\n",
       "      <td>0.020500</td>\n",
       "    </tr>\n",
       "    <tr>\n",
       "      <td>1910</td>\n",
       "      <td>0.020700</td>\n",
       "    </tr>\n",
       "    <tr>\n",
       "      <td>1920</td>\n",
       "      <td>0.020900</td>\n",
       "    </tr>\n",
       "    <tr>\n",
       "      <td>1930</td>\n",
       "      <td>0.020800</td>\n",
       "    </tr>\n",
       "    <tr>\n",
       "      <td>1940</td>\n",
       "      <td>0.020900</td>\n",
       "    </tr>\n",
       "    <tr>\n",
       "      <td>1950</td>\n",
       "      <td>0.020500</td>\n",
       "    </tr>\n",
       "    <tr>\n",
       "      <td>1960</td>\n",
       "      <td>0.020800</td>\n",
       "    </tr>\n",
       "    <tr>\n",
       "      <td>1970</td>\n",
       "      <td>0.020800</td>\n",
       "    </tr>\n",
       "    <tr>\n",
       "      <td>1980</td>\n",
       "      <td>0.020700</td>\n",
       "    </tr>\n",
       "    <tr>\n",
       "      <td>1990</td>\n",
       "      <td>0.020700</td>\n",
       "    </tr>\n",
       "    <tr>\n",
       "      <td>2000</td>\n",
       "      <td>0.020800</td>\n",
       "    </tr>\n",
       "  </tbody>\n",
       "</table><p>"
      ],
      "text/plain": [
       "<IPython.core.display.HTML object>"
      ]
     },
     "metadata": {},
     "output_type": "display_data"
    }
   ],
   "source": [
    "# @title Training model\n",
    "trainer_stats = trainer.train()"
   ]
  },
  {
   "cell_type": "code",
   "execution_count": 12,
   "metadata": {
    "colab": {
     "base_uri": "https://localhost:8080/"
    },
    "executionInfo": {
     "elapsed": 12,
     "status": "ok",
     "timestamp": 1743497360234,
     "user": {
      "displayName": "조경원",
      "userId": "10205523497785796707"
     },
     "user_tz": -540
    },
    "id": "Ixfw_18KqGNM",
    "outputId": "173d4136-ae48-44df-901b-a1b797d8ef04"
   },
   "outputs": [
    {
     "name": "stdout",
     "output_type": "stream",
     "text": [
      "12405.8784 seconds used for training.\n",
      "206.76 minutes used for training.\n",
      "Peak reserved memory = 6.146 GB.\n",
      "Peak reserved memory for training = 1.414 GB.\n",
      "Peak reserved memory % of max memory = 13.861 %.\n",
      "Peak reserved memory for training % of max memory = 3.189 %.\n"
     ]
    }
   ],
   "source": [
    "# @title Show final memory and time stats\n",
    "used_memory = round(torch.cuda.max_memory_reserved() / 1024 / 1024 / 1024, 3)\n",
    "used_memory_for_lora = round(used_memory - start_gpu_memory, 3)\n",
    "used_percentage = round(used_memory / max_memory * 100, 3)\n",
    "lora_percentage = round(used_memory_for_lora / max_memory * 100, 3)\n",
    "print(f\"{trainer_stats.metrics['train_runtime']} seconds used for training.\")\n",
    "print(\n",
    "    f\"{round(trainer_stats.metrics['train_runtime']/60, 2)} minutes used for training.\"\n",
    ")\n",
    "print(f\"Peak reserved memory = {used_memory} GB.\")\n",
    "print(f\"Peak reserved memory for training = {used_memory_for_lora} GB.\")\n",
    "print(f\"Peak reserved memory % of max memory = {used_percentage} %.\")\n",
    "print(f\"Peak reserved memory for training % of max memory = {lora_percentage} %.\")"
   ]
  },
  {
   "cell_type": "markdown",
   "metadata": {
    "id": "n4P5j8EbvuOl"
   },
   "source": [
    "## Inference"
   ]
  },
  {
   "cell_type": "code",
   "execution_count": 13,
   "metadata": {},
   "outputs": [
    {
     "name": "stdout",
     "output_type": "stream",
     "text": [
      "====================================================================================================\n",
      "모델이 답변을 생성 중입니다...\n",
      "\n",
      "\n",
      "Response:\n",
      "user\n",
      "양파, 마늘, 그리고 계란을 사용해서 20분 이내에 후라이팬만 이용해 만들 수 있는 요리를 추천해주세요.\n",
      "model\n",
      "양파, 마늘, 계란을 활용한 후라이팬 요리로 '마늘 토스트'가 적합합니다. 이 요리는 간단한 조리 과정으로, 마늘과 양파의 맛을 잘 섞어 튀긴 후, 계란과 노른자를 올려주면 완성됩니다. 마늘을 다질 때 수분이 들어가면 뻣뻣해지므로, 마지막에 잘라 노른자에 찍어 먹으면 좋습니다. 또한, 마늘의 향이 강하게 나지 않도록 조리할 수 있는 장점이 있습니다.\n",
      "====================================================================================================\n",
      "====================================================================================================\n",
      "모델이 답변을 생성 중입니다...\n",
      "\n",
      "\n",
      "Response:\n",
      "user\n",
      "닭고기와 감자, 그리고 30분의 시간이 있을 때, 오븐을 이용해서 만들 수 있는 요리 레시피를 알려주세요.\n",
      "model\n",
      "닭고기와 감자를 이용해서 오븐에서 요리를 할 때, 30분 정도의 조리 시간을 고려하면 다음과 같은 요리를 만들 수 있습니다.\n",
      "\n",
      "**요리 이름:** 감자 계란 볶음밥\n",
      "\n",
      "**재료:**\n",
      "\n",
      "*   닭가슴살: 300g\n",
      "*   감자: 2개 (중간 크기)\n",
      "*   양파: 1개\n",
      "*   계란: 3개\n",
      "*   밥: 2공기\n",
      "*   베이컨: 4줄\n",
      "*   올리브유: 1Tbsp\n",
      "*   소금: 적당히\n",
      "*   후추: 적당히\n",
      "\n",
      "**도구:**\n",
      "\n",
      "*   전자레인지용 용기\n",
      "*   가루 수분기\n",
      "*   깔깔이\n",
      "\n",
      "**요리 방법:**\n",
      "\n",
      "1.  감자를 깨끗이 씻고 껍질을 벗긴 후, 적당한 크기로 썰어줍니다.\n",
      "2.  팬에 올리브유를 두르고 감자를 볶습니다. 감자가 어느 정도 볶아지면, 양파를 추가하여 함께 볶습니다.\n",
      "3.  그 다음 베이컨을 넣고 기름이 잘 빠지도록 볶습니다.\n",
      "4.  감자와 양파가 볶아지면 불을 약하게 줄이고, 계란을 넣어 스크램블 하듯이 섞어줍니다.\n",
      "5.  계란이 잘 익으면 밥을 추가하고 함께 볶아줍니다. 이때 감자, 양파, 베이컨과 잘 섞이도록 합니다.\n",
      "6.  마지막으로 소금과 후추로 간을 맞추고, 원하는 경우 고추장을 추가하여 마무리합니다.\n",
      "\n",
      "이 요리는 오븐을 사용하지 않고, 팬에서 직접 조리하여 완성합니다. 조리 과정에서 재료들을 잘 섞어주고, 간을 조절하여 맛을 내는 것이 중요합니다.\n",
      "\n",
      "혹시 다른 요리를 제안해주실 수 있나요?\n",
      "====================================================================================================\n",
      "====================================================================================================\n",
      "모델이 답변을 생성 중입니다...\n",
      "\n",
      "\n",
      "Response:\n",
      "user\n",
      "고기와 채소를 사용하여 15분 안에 전자레인지로 만들 수 있는 간단한 요리를 추천해주세요.\n",
      "model\n",
      "고기와 채소를 사용하여 15분 안에 전자레인지로 만들 수 있는 간단한 요리로 **전자레인지 닭가슴살 야채볶음**을 추천합니다. 이 요리는 닭가슴살을 활용하여 주식으로도 훌륭하게 즐길 수 있으며, 야채를 넣어 함께 조리하면 더욱 맛있습니다.\n",
      "\n",
      "**재료:**\n",
      "\n",
      "*   닭가슴살: 300g\n",
      "*   양파: 1/2개\n",
      "*   당근: 1/4개\n",
      "*   피망: 1/4개\n",
      "*   브로콜리: 작은 줌\n",
      "*   굴 소스: 2큰술\n",
      "*   간장: 1큰술\n",
      "*   설탕: 1큰술\n",
      "*   참기름: 1큰술\n",
      "*   후추: 약간\n",
      "\n",
      "**요리 방법:**\n",
      "\n",
      "1.  닭가슴살을 잘 찢어 준비합니다.\n",
      "2.  양파, 당근, 피망을 송송 썰어 준비합니다.\n",
      "3.  전자레인지 사용 가능한 접시에 닭가슴살, 야채를 넣고, 굴 소스, 간장, 설탕을 추가합니다.\n",
      "4.  덮개를 씌우거나 접시를 덮고 전자레인지에 3분 30초 동안 조리합니다.\n",
      "5.  조리 후 섞어주고, 마지막에 참기름과 후추를 넣어 마무리합니다.\n",
      "\n",
      "이 요리는 전자레인지 전용 용기에 담아 조리하며, 조리 시간은 전자레인지의 출력에 따라 약간 달라질 수 있습니다. 야채는 원하는 종류를 사용해도 되며, 조리 과정에서 수분이 빠지지 않도록 주의해야 합니다.\n",
      "\n",
      "더 궁금한 요리 과정이나 추가적인 정보가 필요하시면 언제든지 질문해주세요.\n",
      "====================================================================================================\n",
      "====================================================================================================\n",
      "모델이 답변을 생성 중입니다...\n",
      "\n",
      "\n",
      "Response:\n",
      "user\n",
      "소고기, 감자, 그리고 40분의 시간이 있을 때, 후라이팬만 사용해서 만들 수 있는 요리를 추천해주세요.\n",
      "model\n",
      "소고기를 사용한 요리로, 감자와 40분의 시간을 활용할 수 있는 이상적인 조합은 차돌박이 볶음밥입니다. 이 요리는 후라이팬에서 간단하게 조리할 수 있으며, 소고기의 누린내를 차돌박이로 바꾸어 냄으로써 더욱 맛있게 완성할 수 있습니다.\n",
      "\n",
      "요리 과정은 다음과 같습니다:\n",
      "1. 차돌박이를 적당한 크기로 썰어 준비합니다.\n",
      "2. 팬에 기름을 두르고 차돌박이를 볶습니다. 고기가 익기 시작하면 불을 줄이고 볶아줍니다.\n",
      "3. 계란을 추가하여 고기와 잘 섞이도록 볶습니다.\n",
      "4. 감자를 썰어 넣고, 고기와 함께 볶아줍니다. 감자가 익을 때까지 볶아주고, 필요에 따라 간장을 추가하여 맛을 조절합니다.\n",
      "5. 마지막으로 밥을 넣고 모든 재료를 잘 섞어 볶아줍니다.\n",
      "\n",
      "이 요리는 후라이팬에서 조리하는 간단한 과정으로, 차돌박이로 대체하여 누린내를 제거하고 맛을 높이는 방법을 사용합니다. 감자와 함께 볶아주면 풍미가 더해지며, 40분의 시간 동안 완성할 수 있습니다.\n",
      "====================================================================================================\n"
     ]
    }
   ],
   "source": [
    "from unsloth.chat_templates import get_chat_template\n",
    "\n",
    "tokenizer = get_chat_template(\n",
    "    tokenizer,\n",
    "    chat_template=\"gemma-3\",\n",
    ")\n",
    "\n",
    "# 질문들\n",
    "questions = [\n",
    "    \"양파, 마늘, 그리고 계란을 사용해서 20분 이내에 후라이팬만 이용해 만들 수 있는 요리를 추천해주세요.\",\n",
    "    \"닭고기와 감자, 그리고 30분의 시간이 있을 때, 오븐을 이용해서 만들 수 있는 요리 레시피를 알려주세요.\",\n",
    "    \"고기와 채소를 사용하여 15분 안에 전자레인지로 만들 수 있는 간단한 요리를 추천해주세요.\",\n",
    "    \"소고기, 감자, 그리고 40분의 시간이 있을 때, 후라이팬만 사용해서 만들 수 있는 요리를 추천해주세요.\"\n",
    "]\n",
    "\n",
    "# 답변들\n",
    "answers = []\n",
    "\n",
    "# 모델 추론을 위해 각 질문을 처리\n",
    "for question in questions:\n",
    "    # 추론 중 메시지 출력\n",
    "    print(\"=\" * 100)\n",
    "    print(\"모델이 답변을 생성 중입니다...\")\n",
    "    print(\"\\n\")\n",
    "\n",
    "    messages = [{\n",
    "        \"role\": \"user\",\n",
    "        \"content\": [{\"type\": \"text\", \"text\": question}]\n",
    "    }]\n",
    "\n",
    "    # 템플릿 적용\n",
    "    text = tokenizer.apply_chat_template(\n",
    "        messages,\n",
    "        add_generation_prompt=True,  # 모델 생성을 위한 프롬프트 추가\n",
    "    )\n",
    "\n",
    "    # 모델 추론\n",
    "    output = model.generate(\n",
    "        **tokenizer([text], return_tensors=\"pt\").to(\"cuda\"),\n",
    "        max_new_tokens=1000,  # 출력 길이 증가\n",
    "        temperature=1.0, top_p=0.95, top_k=64,\n",
    "    )\n",
    "\n",
    "    # 추론 완료 후 결과 출력\n",
    "    # 텍스트 출력\n",
    "    decoded_output = tokenizer.decode(output[0], skip_special_tokens=True)\n",
    "    answers.append(decoded_output)\n",
    "    print(\"Response:\")\n",
    "    print(decoded_output)  # 텐서가 아닌 텍스트 출력\n",
    "    print(\"=\" * 100)"
   ]
  },
  {
   "cell_type": "markdown",
   "metadata": {
    "id": "RdxoIlzrwuhD"
   },
   "source": [
    "## save model"
   ]
  },
  {
   "cell_type": "markdown",
   "metadata": {
    "id": "u73pM5rcw9Qg"
   },
   "source": [
    "### VLLM을 위한 float4 저장"
   ]
  },
  {
   "cell_type": "code",
   "execution_count": 14,
   "metadata": {
    "id": "cMT2raOivObq"
   },
   "outputs": [],
   "source": [
    "base_model = \"gemma3\" # 병합을 수행할 베이스 모델\n",
    "# huggingface_token = \"\"  # HuggingFace 토큰\n",
    "# huggingface_repo = \"Llama-3-Open-Ko-8B-Instruct-teddynote\"  # 모델을 업로드할 repository\n",
    "save_method = (\n",
    "    \"merged_4bit\"  # \"merged_4bit\", \"merged_4bit_forced\", \"merged_16bit\", \"lora\"\n",
    ")"
   ]
  },
  {
   "cell_type": "code",
   "execution_count": 15,
   "metadata": {
    "colab": {
     "base_uri": "https://localhost:8080/",
     "height": 156,
     "referenced_widgets": [
      "c7c58ef066114073b95986e1be5d57a8",
      "641b88b260eb4aecbbc30ce12ec79547",
      "b670cece049b4e3e984d6a18fd390c7e",
      "a15c7d84b62a4a4ea445097b15d19fe0",
      "22b08d5d7f3346e4833e9fbc21e94666",
      "6831b91dc00d48688460bf110289f0cb",
      "84af37d6de4a4eb2923b01d8951094a0",
      "87e08078289c49aaae4cd2b0856bfdd8",
      "b012db08bd15459ca14a76c15c5dd40d",
      "ef2ebe6a18af4d959bfdadc33b9d1c72",
      "59b7d4148383490683388ba45bff096d",
      "ad50ce64aed74467aee266f4bfafcc11",
      "118523f19c044461992b525513e26c78",
      "27cb1f72a1fc4565a686baca51e14c70",
      "5f9009faf77a4c1da717337faf8c154d",
      "c0e5f3a321a34b77b889893cadc38514",
      "0851a5b09b1440c5bfe04beefe6ccf10",
      "b11fd4fe0a064e99ad00114bb621aea8",
      "a801bc0344534702bfc67ad05be6a633",
      "4eadb199e0c24420bbc098dee8f3997c",
      "0b845375ff784d05b5a6a912c236df6b",
      "2389353103dc41b29f7d22327d4d2fc2",
      "34a45465e0534ceea583bb686b337f0c",
      "c4fe287bb284420fa8990179910d06bc",
      "7323f6f4b620450c96575c857d6372a7"
     ]
    },
    "executionInfo": {
     "elapsed": 63887,
     "status": "ok",
     "timestamp": 1743497425854,
     "user": {
      "displayName": "조경원",
      "userId": "10205523497785796707"
     },
     "user_tz": -540
    },
    "id": "z08wNEDJvOfK",
    "outputId": "1fe32194-b504-470a-8254-0fd5a81239f1"
   },
   "outputs": [
    {
     "name": "stdout",
     "output_type": "stream",
     "text": [
      "Downloading safetensors index for unsloth/gemma-3-4b-it...\n"
     ]
    },
    {
     "data": {
      "application/vnd.jupyter.widget-view+json": {
       "model_id": "1b4a50067c624f9f9616806dbd7c5a3b",
       "version_major": 2,
       "version_minor": 0
      },
      "text/plain": [
       "model.safetensors.index.json:   0%|          | 0.00/90.6k [00:00<?, ?B/s]"
      ]
     },
     "metadata": {},
     "output_type": "display_data"
    },
    {
     "name": "stderr",
     "output_type": "stream",
     "text": [
      "Unsloth: Merging weights into 16bit:   0%|          | 0/2 [00:00<?, ?it/s]"
     ]
    },
    {
     "data": {
      "application/vnd.jupyter.widget-view+json": {
       "model_id": "22f44bd74b9d427d88a6d6740fcc3b7e",
       "version_major": 2,
       "version_minor": 0
      },
      "text/plain": [
       "model-00001-of-00002.safetensors:   0%|          | 0.00/4.96G [00:00<?, ?B/s]"
      ]
     },
     "metadata": {},
     "output_type": "display_data"
    },
    {
     "name": "stderr",
     "output_type": "stream",
     "text": [
      "Unsloth: Merging weights into 16bit:  50%|█████     | 1/2 [00:24<00:24, 24.65s/it]"
     ]
    },
    {
     "data": {
      "application/vnd.jupyter.widget-view+json": {
       "model_id": "e45ff6d924a54df6a6cac2f805009a5a",
       "version_major": 2,
       "version_minor": 0
      },
      "text/plain": [
       "model-00002-of-00002.safetensors:   0%|          | 0.00/3.64G [00:00<?, ?B/s]"
      ]
     },
     "metadata": {},
     "output_type": "display_data"
    },
    {
     "name": "stderr",
     "output_type": "stream",
     "text": [
      "Unsloth: Merging weights into 16bit: 100%|██████████| 2/2 [00:42<00:00, 21.06s/it]\n"
     ]
    }
   ],
   "source": [
    "model.save_pretrained_merged(\n",
    "    base_model,\n",
    "    tokenizer,\n",
    "    save_method=save_method,  # 저장 방식을 16비트 병합으로 설정\n",
    ")"
   ]
  },
  {
   "cell_type": "markdown",
   "metadata": {
    "id": "VZxnu-uixE7j"
   },
   "source": [
    "### GGUF 변환"
   ]
  },
  {
   "cell_type": "code",
   "execution_count": 16,
   "metadata": {
    "id": "RMYyyEAFw5R7"
   },
   "outputs": [],
   "source": [
    "# Quantization 방식 설정\n",
    "quantization_method = \"q8_0\"  # \"f16\" \"q8_0\" \"q4_k_m\" \"q5_k_m\""
   ]
  },
  {
   "cell_type": "code",
   "execution_count": 17,
   "metadata": {
    "colab": {
     "base_uri": "https://localhost:8080/",
     "height": 759,
     "referenced_widgets": [
      "f15573f1d485436d94b26baca70c102c",
      "98178699a7314a3e85c344c4b9ddec38",
      "f2bd5cbbb65243778f01344ee4507226",
      "5d1b797749c34a02bf2ed9a80caf1d62",
      "a88cb5477c984b73af8d1c1e285dfd47",
      "7f93dcd20c9c431e99c3a817edbb3ddc",
      "95c1f9de56064723b3a4d7572d4536b9",
      "c844da9703294538a7dc88a4cb1e13d0",
      "5673bef5e6fb4049a6823ec0b33e268b",
      "3a9840e3e0884555922502a1e6024872",
      "8610a166cc5d4fe2b35645cc14c188d3",
      "0b4f5bd140fc4fc791192cdd0c0793b7"
     ]
    },
    "executionInfo": {
     "elapsed": 82166,
     "status": "ok",
     "timestamp": 1743497508025,
     "user": {
      "displayName": "조경원",
      "userId": "10205523497785796707"
     },
     "user_tz": -540
    },
    "id": "c4qyOv_Iw5VT",
    "outputId": "278d4740-2ecb-4bb9-86f7-09fe58287b93"
   },
   "outputs": [
    {
     "name": "stdout",
     "output_type": "stream",
     "text": [
      "Unsloth: Updating system package directories\n",
      "Unsloth: Install GGUF and other packages\n",
      "Unsloth GGUF:hf-to-gguf:Loading model: gemma3\n",
      "Unsloth GGUF:gguf.gguf_writer:gguf: This GGUF file is for Little Endian only\n",
      "Unsloth GGUF:hf-to-gguf:Exporting model...\n",
      "Unsloth GGUF:hf-to-gguf:gguf: loading model weight map from 'model.safetensors.index.json'\n",
      "Unsloth GGUF:hf-to-gguf:gguf: loading model part 'model-00001-of-00002.safetensors'\n",
      "Unsloth GGUF:hf-to-gguf:token_embd.weight,                 torch.bfloat16 --> Q8_0, shape = {2560, 262208}\n",
      "Unsloth GGUF:hf-to-gguf:gguf: loading model part 'model-00002-of-00002.safetensors'\n",
      "Unsloth GGUF:hf-to-gguf:output_norm.weight,                torch.bfloat16 --> F32, shape = {2560}\n",
      "Unsloth GGUF:hf-to-gguf:Set meta model\n",
      "Unsloth GGUF:hf-to-gguf:Set model parameters\n",
      "Unsloth GGUF:hf-to-gguf:Set model tokenizer\n",
      "Unsloth GGUF:gguf.vocab:Setting special token type bos to 2\n",
      "Unsloth GGUF:gguf.vocab:Setting special token type eos to 106\n",
      "Unsloth GGUF:gguf.vocab:Setting special token type unk to 3\n",
      "Unsloth GGUF:gguf.vocab:Setting special token type pad to 0\n",
      "Unsloth GGUF:gguf.vocab:Setting add_bos_token to True\n",
      "Unsloth GGUF:gguf.vocab:Setting add_eos_token to False\n",
      "Unsloth GGUF:gguf.vocab:Setting chat_template to {{ bos_token }}\n",
      "{%- if messages[0]['role'] == 'system' -%}\n",
      "    {%- if messages[0]['content'] is string -%}\n",
      "        {%- set first_user_prefix = messages[0]['content'] + '\n",
      "\n",
      "' -%}\n",
      "    {%- else -%}\n",
      "        {%- set first_user_prefix = messages[0]['content'][0]['text'] + '\n",
      "..... Chat template truncated .....\n",
      "\n",
      "Unsloth GGUF:hf-to-gguf:Set model quantization version\n",
      "Unsloth GGUF:gguf.gguf_writer:Writing the following files:\n",
      "Unsloth GGUF:gguf.gguf_writer:gemma3.Q8_0.gguf: n_tensors = 444, total_size = 4.1G\n",
      "\n"
     ]
    },
    {
     "data": {
      "application/vnd.jupyter.widget-view+json": {
       "model_id": "e1696e92fccd4e6b834242f357188a80",
       "version_major": 2,
       "version_minor": 0
      },
      "text/plain": [
       "Unsloth: GGUF conversion:   0%|          | 0/100 [00:00<?, ?it/s]"
      ]
     },
     "metadata": {},
     "output_type": "display_data"
    },
    {
     "name": "stdout",
     "output_type": "stream",
     "text": [
      "Unsloth GGUF:hf-to-gguf:Model successfully exported to ./\n",
      "Unsloth: Converted to gemma3.Q8_0.gguf with size = 4.1G\n",
      "Unsloth: Successfully saved GGUF to:\n",
      "gemma3.Q8_0.gguf\n"
     ]
    },
    {
     "data": {
      "text/plain": [
       "['gemma3.Q8_0.gguf']"
      ]
     },
     "execution_count": 17,
     "metadata": {},
     "output_type": "execute_result"
    }
   ],
   "source": [
    "model.save_pretrained_gguf(\n",
    "    base_model, # 사전학습 모델이 저장될 폴더명\n",
    "    quantization_type=quantization_method,\n",
    ")"
   ]
  },
  {
   "cell_type": "code",
   "execution_count": null,
   "metadata": {
    "id": "8jtCq7vY9Iib"
   },
   "outputs": [],
   "source": [
    "import os\n",
    "\n",
    "os.environ[\"HF_TOKEN\"] = \"\""
   ]
  },
  {
   "cell_type": "code",
   "execution_count": 19,
   "metadata": {
    "colab": {
     "base_uri": "https://localhost:8080/",
     "height": 1000,
     "referenced_widgets": [
      "51aa2af69c224f22a95fc0c43aaa72db",
      "71a9db7923cd422eb226d528dc9a57f4",
      "c9bfa6aaedd947b9b4a643cbd7d4f8cb",
      "1964230156194c6bad3639ed0a1a68f8",
      "cb1af9c37d5944d1bdc4e74971b653a1",
      "57cdfffa80a74de1a436873bcb1869df",
      "bd096dfca5ed47e5b4cfcc07ff2b4ad0",
      "68fa0322e02a45a3a5d9929e2ce7a8af",
      "d393c3c1a6fe467c81083c26873747ac",
      "418366b78c6e43ceaa1b0969adbf9732",
      "d53090ff54f44f3a8625ed4fa2529215",
      "8b751bcdf67441f9805dcafb7087473b"
     ]
    },
    "executionInfo": {
     "elapsed": 65315,
     "status": "error",
     "timestamp": 1743497573350,
     "user": {
      "displayName": "조경원",
      "userId": "10205523497785796707"
     },
     "user_tz": -540
    },
    "id": "OvsSj8jTDlbM",
    "outputId": "b303d416-a9dc-480b-9363-09b592e70803"
   },
   "outputs": [
    {
     "name": "stdout",
     "output_type": "stream",
     "text": [
      "Unsloth GGUF:hf-to-gguf:Loading model: gemma3\n",
      "Unsloth GGUF:gguf.gguf_writer:gguf: This GGUF file is for Little Endian only\n",
      "Unsloth GGUF:hf-to-gguf:Exporting model...\n",
      "Unsloth GGUF:hf-to-gguf:gguf: loading model weight map from 'model.safetensors.index.json'\n",
      "Unsloth GGUF:hf-to-gguf:gguf: loading model part 'model-00001-of-00002.safetensors'\n",
      "Unsloth GGUF:hf-to-gguf:token_embd.weight,                 torch.bfloat16 --> Q8_0, shape = {2560, 262208}\n",
      "Unsloth GGUF:hf-to-gguf:gguf: loading model part 'model-00002-of-00002.safetensors'\n",
      "Unsloth GGUF:hf-to-gguf:output_norm.weight,                torch.bfloat16 --> F32, shape = {2560}\n",
      "Unsloth GGUF:hf-to-gguf:Set meta model\n",
      "Unsloth GGUF:hf-to-gguf:Set model parameters\n",
      "Unsloth GGUF:hf-to-gguf:Set model tokenizer\n",
      "Unsloth GGUF:gguf.vocab:Setting special token type bos to 2\n",
      "Unsloth GGUF:gguf.vocab:Setting special token type eos to 106\n",
      "Unsloth GGUF:gguf.vocab:Setting special token type unk to 3\n",
      "Unsloth GGUF:gguf.vocab:Setting special token type pad to 0\n",
      "Unsloth GGUF:gguf.vocab:Setting add_bos_token to True\n",
      "Unsloth GGUF:gguf.vocab:Setting add_eos_token to False\n",
      "Unsloth GGUF:gguf.vocab:Setting chat_template to {{ bos_token }}\n",
      "{%- if messages[0]['role'] == 'system' -%}\n",
      "    {%- if messages[0]['content'] is string -%}\n",
      "        {%- set first_user_prefix = messages[0]['content'] + '\n",
      "\n",
      "' -%}\n",
      "    {%- else -%}\n",
      "        {%- set first_user_prefix = messages[0]['content'][0]['text'] + '\n",
      "..... Chat template truncated .....\n",
      "\n",
      "Unsloth GGUF:hf-to-gguf:Set model quantization version\n",
      "Unsloth GGUF:gguf.gguf_writer:Writing the following files:\n",
      "Unsloth GGUF:gguf.gguf_writer:gemma3.Q8_0.gguf: n_tensors = 444, total_size = 4.1G\n",
      "\n"
     ]
    },
    {
     "data": {
      "application/vnd.jupyter.widget-view+json": {
       "model_id": "f2b687a152724952bb7a3b4481950a23",
       "version_major": 2,
       "version_minor": 0
      },
      "text/plain": [
       "Unsloth: GGUF conversion:   0%|          | 0/100 [00:00<?, ?it/s]"
      ]
     },
     "metadata": {},
     "output_type": "display_data"
    },
    {
     "name": "stdout",
     "output_type": "stream",
     "text": [
      "Unsloth GGUF:hf-to-gguf:Model successfully exported to ./\n",
      "Unsloth: Converted to gemma3.Q8_0.gguf with size = 4.1G\n",
      "Unsloth: Successfully saved GGUF to:\n",
      "gemma3.Q8_0.gguf\n"
     ]
    },
    {
     "name": "stderr",
     "output_type": "stream",
     "text": [
      "No files have been modified since last commit. Skipping to prevent empty commit.\n"
     ]
    },
    {
     "data": {
      "text/plain": [
       "['gemma3.Q8_0.gguf']"
      ]
     },
     "execution_count": 19,
     "metadata": {},
     "output_type": "execute_result"
    }
   ],
   "source": [
    "model.push_to_hub_gguf(\n",
    "    base_model,\n",
    "    quantization_type = \"Q8_0\", # Only Q8_0, BF16, F16 supported\n",
    "    repo_id = \"INe904/gemma3-finetune-recipe2-gguf\",\n",
    "    # token = \"hf_\"\n",
    ")"
   ]
  },
  {
   "cell_type": "code",
   "execution_count": 20,
   "metadata": {
    "colab": {
     "referenced_widgets": [
      "18fc5092c09848b6abe9c52a4ecd1219",
      "814c116b198640608c969324642ab365"
     ]
    },
    "id": "2RH-YzHlR9cp",
    "outputId": "8a245af0-5e02-4621-df77-5011e0d35c74"
   },
   "outputs": [
    {
     "data": {
      "application/vnd.jupyter.widget-view+json": {
       "model_id": "cd372c52a642434e951fa0b6d810c912",
       "version_major": 2,
       "version_minor": 0
      },
      "text/plain": [
       "  0%|          | 0/1 [00:00<?, ?it/s]"
      ]
     },
     "metadata": {},
     "output_type": "display_data"
    },
    {
     "data": {
      "application/vnd.jupyter.widget-view+json": {
       "model_id": "bf823ef7b4344a7c8e220b042646e4c6",
       "version_major": 2,
       "version_minor": 0
      },
      "text/plain": [
       "gemma3-finetune-recipe2.Q8_0.gguf:   0%|          | 0.00/4.13G [00:00<?, ?B/s]"
      ]
     },
     "metadata": {},
     "output_type": "display_data"
    },
    {
     "data": {
      "text/plain": [
       "CommitInfo(commit_url='https://huggingface.co/INe904/gemma3-finetune-recipe2-gguf/commit/1c4e310397629d7fbe90cd3700ac166b55040edc', commit_message='Upload gemma3-finetune-recipe2.Q8_0.gguf with huggingface_hub', commit_description='', oid='1c4e310397629d7fbe90cd3700ac166b55040edc', pr_url=None, repo_url=RepoUrl('https://huggingface.co/INe904/gemma3-finetune-recipe2-gguf', endpoint='https://huggingface.co', repo_type='model', repo_id='INe904/gemma3-finetune-recipe2-gguf'), pr_revision=None, pr_num=None)"
      ]
     },
     "execution_count": 20,
     "metadata": {},
     "output_type": "execute_result"
    }
   ],
   "source": [
    "#@title 수동 업로드\n",
    "from huggingface_hub import HfApi\n",
    "\n",
    "api = HfApi()\n",
    "api.upload_file(\n",
    "    path_or_fileobj=\"./gemma3.Q8_0.gguf\",\n",
    "    path_in_repo=\"gemma3-finetune-recipe2.Q8_0.gguf\",\n",
    "    repo_id=\"INe904/gemma3-finetune-recipe2-gguf\",\n",
    "    repo_type=\"model\",\n",
    "    # token = \"hf_\"\n",
    ")"
   ]
  },
  {
   "cell_type": "markdown",
   "metadata": {
    "id": "NIuX3S-KEDIp"
   },
   "source": [
    "### [hugging face 확인](https://huggingface.co/good593/gemma3-finetune-gguf)"
   ]
  },
  {
   "cell_type": "markdown",
   "metadata": {
    "id": "I7KnolnQD87I"
   },
   "source": [
    "![image.png](data:image/png;base64,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)"
   ]
  },
  {
   "cell_type": "code",
   "execution_count": null,
   "metadata": {
    "id": "C2ZIoV3-hKGF"
   },
   "outputs": [],
   "source": []
  }
 ],
 "metadata": {
  "accelerator": "GPU",
  "colab": {
   "gpuType": "T4",
   "machine_shape": "hm",
   "provenance": []
  },
  "kernelspec": {
   "display_name": "Python 3 (ipykernel)",
   "language": "python",
   "name": "python3"
  },
  "language_info": {
   "codemirror_mode": {
    "name": "ipython",
    "version": 3
   },
   "file_extension": ".py",
   "mimetype": "text/x-python",
   "name": "python",
   "nbconvert_exporter": "python",
   "pygments_lexer": "ipython3",
   "version": "3.11.10"
  },
  "widgets": {
   "application/vnd.jupyter.widget-state+json": {
    "0851a5b09b1440c5bfe04beefe6ccf10": {
     "model_module": "@jupyter-widgets/base",
     "model_module_version": "1.2.0",
     "model_name": "LayoutModel",
     "state": {
      "_model_module": "@jupyter-widgets/base",
      "_model_module_version": "1.2.0",
      "_model_name": "LayoutModel",
      "_view_count": null,
      "_view_module": "@jupyter-widgets/base",
      "_view_module_version": "1.2.0",
      "_view_name": "LayoutView",
      "align_content": null,
      "align_items": null,
      "align_self": null,
      "border": null,
      "bottom": null,
      "display": null,
      "flex": null,
      "flex_flow": null,
      "grid_area": null,
      "grid_auto_columns": null,
      "grid_auto_flow": null,
      "grid_auto_rows": null,
      "grid_column": null,
      "grid_gap": null,
      "grid_row": null,
      "grid_template_areas": null,
      "grid_template_columns": null,
      "grid_template_rows": null,
      "height": null,
      "justify_content": null,
      "justify_items": null,
      "left": null,
      "margin": null,
      "max_height": null,
      "max_width": null,
      "min_height": null,
      "min_width": null,
      "object_fit": null,
      "object_position": null,
      "order": null,
      "overflow": null,
      "overflow_x": null,
      "overflow_y": null,
      "padding": null,
      "right": null,
      "top": null,
      "visibility": null,
      "width": null
     }
    },
    "0b845375ff784d05b5a6a912c236df6b": {
     "model_module": "@jupyter-widgets/base",
     "model_module_version": "1.2.0",
     "model_name": "LayoutModel",
     "state": {
      "_model_module": "@jupyter-widgets/base",
      "_model_module_version": "1.2.0",
      "_model_name": "LayoutModel",
      "_view_count": null,
      "_view_module": "@jupyter-widgets/base",
      "_view_module_version": "1.2.0",
      "_view_name": "LayoutView",
      "align_content": null,
      "align_items": null,
      "align_self": null,
      "border": null,
      "bottom": null,
      "display": null,
      "flex": null,
      "flex_flow": null,
      "grid_area": null,
      "grid_auto_columns": null,
      "grid_auto_flow": null,
      "grid_auto_rows": null,
      "grid_column": null,
      "grid_gap": null,
      "grid_row": null,
      "grid_template_areas": null,
      "grid_template_columns": null,
      "grid_template_rows": null,
      "height": null,
      "justify_content": null,
      "justify_items": null,
      "left": null,
      "margin": null,
      "max_height": null,
      "max_width": null,
      "min_height": null,
      "min_width": null,
      "object_fit": null,
      "object_position": null,
      "order": null,
      "overflow": null,
      "overflow_x": null,
      "overflow_y": null,
      "padding": null,
      "right": null,
      "top": null,
      "visibility": null,
      "width": null
     }
    },
    "118523f19c044461992b525513e26c78": {
     "model_module": "@jupyter-widgets/controls",
     "model_module_version": "1.5.0",
     "model_name": "HTMLModel",
     "state": {
      "_dom_classes": [],
      "_model_module": "@jupyter-widgets/controls",
      "_model_module_version": "1.5.0",
      "_model_name": "HTMLModel",
      "_view_count": null,
      "_view_module": "@jupyter-widgets/controls",
      "_view_module_version": "1.5.0",
      "_view_name": "HTMLView",
      "description": "",
      "description_tooltip": null,
      "layout": "IPY_MODEL_0851a5b09b1440c5bfe04beefe6ccf10",
      "placeholder": "​",
      "style": "IPY_MODEL_b11fd4fe0a064e99ad00114bb621aea8",
      "value": "model-00002-of-00002.safetensors: 100%"
     }
    },
    "1964230156194c6bad3639ed0a1a68f8": {
     "model_module": "@jupyter-widgets/controls",
     "model_module_version": "1.5.0",
     "model_name": "HTMLModel",
     "state": {
      "_dom_classes": [],
      "_model_module": "@jupyter-widgets/controls",
      "_model_module_version": "1.5.0",
      "_model_name": "HTMLModel",
      "_view_count": null,
      "_view_module": "@jupyter-widgets/controls",
      "_view_module_version": "1.5.0",
      "_view_name": "HTMLView",
      "description": "",
      "description_tooltip": null,
      "layout": "IPY_MODEL_418366b78c6e43ceaa1b0969adbf9732",
      "placeholder": "​",
      "style": "IPY_MODEL_d53090ff54f44f3a8625ed4fa2529215",
      "value": " 100/100 [00:39&lt;00:00,  2.66it/s, 4.12G/4.12G]"
     }
    },
    "22b08d5d7f3346e4833e9fbc21e94666": {
     "model_module": "@jupyter-widgets/base",
     "model_module_version": "1.2.0",
     "model_name": "LayoutModel",
     "state": {
      "_model_module": "@jupyter-widgets/base",
      "_model_module_version": "1.2.0",
      "_model_name": "LayoutModel",
      "_view_count": null,
      "_view_module": "@jupyter-widgets/base",
      "_view_module_version": "1.2.0",
      "_view_name": "LayoutView",
      "align_content": null,
      "align_items": null,
      "align_self": null,
      "border": null,
      "bottom": null,
      "display": null,
      "flex": null,
      "flex_flow": null,
      "grid_area": null,
      "grid_auto_columns": null,
      "grid_auto_flow": null,
      "grid_auto_rows": null,
      "grid_column": null,
      "grid_gap": null,
      "grid_row": null,
      "grid_template_areas": null,
      "grid_template_columns": null,
      "grid_template_rows": null,
      "height": null,
      "justify_content": null,
      "justify_items": null,
      "left": null,
      "margin": null,
      "max_height": null,
      "max_width": null,
      "min_height": null,
      "min_width": null,
      "object_fit": null,
      "object_position": null,
      "order": null,
      "overflow": null,
      "overflow_x": null,
      "overflow_y": null,
      "padding": null,
      "right": null,
      "top": null,
      "visibility": null,
      "width": null
     }
    },
    "2389353103dc41b29f7d22327d4d2fc2": {
     "model_module": "@jupyter-widgets/controls",
     "model_module_version": "1.5.0",
     "model_name": "DescriptionStyleModel",
     "state": {
      "_model_module": "@jupyter-widgets/controls",
      "_model_module_version": "1.5.0",
      "_model_name": "DescriptionStyleModel",
      "_view_count": null,
      "_view_module": "@jupyter-widgets/base",
      "_view_module_version": "1.2.0",
      "_view_name": "StyleView",
      "description_width": ""
     }
    },
    "27cb1f72a1fc4565a686baca51e14c70": {
     "model_module": "@jupyter-widgets/controls",
     "model_module_version": "1.5.0",
     "model_name": "FloatProgressModel",
     "state": {
      "_dom_classes": [],
      "_model_module": "@jupyter-widgets/controls",
      "_model_module_version": "1.5.0",
      "_model_name": "FloatProgressModel",
      "_view_count": null,
      "_view_module": "@jupyter-widgets/controls",
      "_view_module_version": "1.5.0",
      "_view_name": "ProgressView",
      "bar_style": "danger",
      "description": "",
      "description_tooltip": null,
      "layout": "IPY_MODEL_a801bc0344534702bfc67ad05be6a633",
      "max": 3639026128,
      "min": 0,
      "orientation": "horizontal",
      "style": "IPY_MODEL_4eadb199e0c24420bbc098dee8f3997c",
      "value": 3639025781
     }
    },
    "3a9840e3e0884555922502a1e6024872": {
     "model_module": "@jupyter-widgets/base",
     "model_module_version": "1.2.0",
     "model_name": "LayoutModel",
     "state": {
      "_model_module": "@jupyter-widgets/base",
      "_model_module_version": "1.2.0",
      "_model_name": "LayoutModel",
      "_view_count": null,
      "_view_module": "@jupyter-widgets/base",
      "_view_module_version": "1.2.0",
      "_view_name": "LayoutView",
      "align_content": null,
      "align_items": null,
      "align_self": null,
      "border": null,
      "bottom": null,
      "display": null,
      "flex": null,
      "flex_flow": null,
      "grid_area": null,
      "grid_auto_columns": null,
      "grid_auto_flow": null,
      "grid_auto_rows": null,
      "grid_column": null,
      "grid_gap": null,
      "grid_row": null,
      "grid_template_areas": null,
      "grid_template_columns": null,
      "grid_template_rows": null,
      "height": null,
      "justify_content": null,
      "justify_items": null,
      "left": null,
      "margin": null,
      "max_height": null,
      "max_width": null,
      "min_height": null,
      "min_width": null,
      "object_fit": null,
      "object_position": null,
      "order": null,
      "overflow": null,
      "overflow_x": null,
      "overflow_y": null,
      "padding": null,
      "right": null,
      "top": null,
      "visibility": null,
      "width": null
     }
    },
    "418366b78c6e43ceaa1b0969adbf9732": {
     "model_module": "@jupyter-widgets/base",
     "model_module_version": "1.2.0",
     "model_name": "LayoutModel",
     "state": {
      "_model_module": "@jupyter-widgets/base",
      "_model_module_version": "1.2.0",
      "_model_name": "LayoutModel",
      "_view_count": null,
      "_view_module": "@jupyter-widgets/base",
      "_view_module_version": "1.2.0",
      "_view_name": "LayoutView",
      "align_content": null,
      "align_items": null,
      "align_self": null,
      "border": null,
      "bottom": null,
      "display": null,
      "flex": null,
      "flex_flow": null,
      "grid_area": null,
      "grid_auto_columns": null,
      "grid_auto_flow": null,
      "grid_auto_rows": null,
      "grid_column": null,
      "grid_gap": null,
      "grid_row": null,
      "grid_template_areas": null,
      "grid_template_columns": null,
      "grid_template_rows": null,
      "height": null,
      "justify_content": null,
      "justify_items": null,
      "left": null,
      "margin": null,
      "max_height": null,
      "max_width": null,
      "min_height": null,
      "min_width": null,
      "object_fit": null,
      "object_position": null,
      "order": null,
      "overflow": null,
      "overflow_x": null,
      "overflow_y": null,
      "padding": null,
      "right": null,
      "top": null,
      "visibility": null,
      "width": null
     }
    },
    "4eadb199e0c24420bbc098dee8f3997c": {
     "model_module": "@jupyter-widgets/controls",
     "model_module_version": "1.5.0",
     "model_name": "ProgressStyleModel",
     "state": {
      "_model_module": "@jupyter-widgets/controls",
      "_model_module_version": "1.5.0",
      "_model_name": "ProgressStyleModel",
      "_view_count": null,
      "_view_module": "@jupyter-widgets/base",
      "_view_module_version": "1.2.0",
      "_view_name": "StyleView",
      "bar_color": null,
      "description_width": ""
     }
    },
    "51aa2af69c224f22a95fc0c43aaa72db": {
     "model_module": "@jupyter-widgets/controls",
     "model_module_version": "1.5.0",
     "model_name": "HBoxModel",
     "state": {
      "_dom_classes": [],
      "_model_module": "@jupyter-widgets/controls",
      "_model_module_version": "1.5.0",
      "_model_name": "HBoxModel",
      "_view_count": null,
      "_view_module": "@jupyter-widgets/controls",
      "_view_module_version": "1.5.0",
      "_view_name": "HBoxView",
      "box_style": "",
      "children": [
       "IPY_MODEL_71a9db7923cd422eb226d528dc9a57f4",
       "IPY_MODEL_c9bfa6aaedd947b9b4a643cbd7d4f8cb",
       "IPY_MODEL_1964230156194c6bad3639ed0a1a68f8"
      ],
      "layout": "IPY_MODEL_cb1af9c37d5944d1bdc4e74971b653a1"
     }
    },
    "5673bef5e6fb4049a6823ec0b33e268b": {
     "model_module": "@jupyter-widgets/controls",
     "model_module_version": "1.5.0",
     "model_name": "ProgressStyleModel",
     "state": {
      "_model_module": "@jupyter-widgets/controls",
      "_model_module_version": "1.5.0",
      "_model_name": "ProgressStyleModel",
      "_view_count": null,
      "_view_module": "@jupyter-widgets/base",
      "_view_module_version": "1.2.0",
      "_view_name": "StyleView",
      "bar_color": null,
      "description_width": ""
     }
    },
    "57cdfffa80a74de1a436873bcb1869df": {
     "model_module": "@jupyter-widgets/base",
     "model_module_version": "1.2.0",
     "model_name": "LayoutModel",
     "state": {
      "_model_module": "@jupyter-widgets/base",
      "_model_module_version": "1.2.0",
      "_model_name": "LayoutModel",
      "_view_count": null,
      "_view_module": "@jupyter-widgets/base",
      "_view_module_version": "1.2.0",
      "_view_name": "LayoutView",
      "align_content": null,
      "align_items": null,
      "align_self": null,
      "border": null,
      "bottom": null,
      "display": null,
      "flex": null,
      "flex_flow": null,
      "grid_area": null,
      "grid_auto_columns": null,
      "grid_auto_flow": null,
      "grid_auto_rows": null,
      "grid_column": null,
      "grid_gap": null,
      "grid_row": null,
      "grid_template_areas": null,
      "grid_template_columns": null,
      "grid_template_rows": null,
      "height": null,
      "justify_content": null,
      "justify_items": null,
      "left": null,
      "margin": null,
      "max_height": null,
      "max_width": null,
      "min_height": null,
      "min_width": null,
      "object_fit": null,
      "object_position": null,
      "order": null,
      "overflow": null,
      "overflow_x": null,
      "overflow_y": null,
      "padding": null,
      "right": null,
      "top": null,
      "visibility": null,
      "width": null
     }
    },
    "59b7d4148383490683388ba45bff096d": {
     "model_module": "@jupyter-widgets/controls",
     "model_module_version": "1.5.0",
     "model_name": "DescriptionStyleModel",
     "state": {
      "_model_module": "@jupyter-widgets/controls",
      "_model_module_version": "1.5.0",
      "_model_name": "DescriptionStyleModel",
      "_view_count": null,
      "_view_module": "@jupyter-widgets/base",
      "_view_module_version": "1.2.0",
      "_view_name": "StyleView",
      "description_width": ""
     }
    },
    "5d1b797749c34a02bf2ed9a80caf1d62": {
     "model_module": "@jupyter-widgets/controls",
     "model_module_version": "1.5.0",
     "model_name": "HTMLModel",
     "state": {
      "_dom_classes": [],
      "_model_module": "@jupyter-widgets/controls",
      "_model_module_version": "1.5.0",
      "_model_name": "HTMLModel",
      "_view_count": null,
      "_view_module": "@jupyter-widgets/controls",
      "_view_module_version": "1.5.0",
      "_view_name": "HTMLView",
      "description": "",
      "description_tooltip": null,
      "layout": "IPY_MODEL_3a9840e3e0884555922502a1e6024872",
      "placeholder": "​",
      "style": "IPY_MODEL_8610a166cc5d4fe2b35645cc14c188d3",
      "value": " 100/100 [00:40&lt;00:00,  2.63it/s, 4.12G/4.12G]"
     }
    },
    "5f9009faf77a4c1da717337faf8c154d": {
     "model_module": "@jupyter-widgets/controls",
     "model_module_version": "1.5.0",
     "model_name": "HTMLModel",
     "state": {
      "_dom_classes": [],
      "_model_module": "@jupyter-widgets/controls",
      "_model_module_version": "1.5.0",
      "_model_name": "HTMLModel",
      "_view_count": null,
      "_view_module": "@jupyter-widgets/controls",
      "_view_module_version": "1.5.0",
      "_view_name": "HTMLView",
      "description": "",
      "description_tooltip": null,
      "layout": "IPY_MODEL_0b845375ff784d05b5a6a912c236df6b",
      "placeholder": "​",
      "style": "IPY_MODEL_2389353103dc41b29f7d22327d4d2fc2",
      "value": " 3.64G/3.64G [00:08&lt;00:00, 732MB/s]"
     }
    },
    "641b88b260eb4aecbbc30ce12ec79547": {
     "model_module": "@jupyter-widgets/controls",
     "model_module_version": "1.5.0",
     "model_name": "HTMLModel",
     "state": {
      "_dom_classes": [],
      "_model_module": "@jupyter-widgets/controls",
      "_model_module_version": "1.5.0",
      "_model_name": "HTMLModel",
      "_view_count": null,
      "_view_module": "@jupyter-widgets/controls",
      "_view_module_version": "1.5.0",
      "_view_name": "HTMLView",
      "description": "",
      "description_tooltip": null,
      "layout": "IPY_MODEL_6831b91dc00d48688460bf110289f0cb",
      "placeholder": "​",
      "style": "IPY_MODEL_84af37d6de4a4eb2923b01d8951094a0",
      "value": "model-00001-of-00002.safetensors: 100%"
     }
    },
    "6831b91dc00d48688460bf110289f0cb": {
     "model_module": "@jupyter-widgets/base",
     "model_module_version": "1.2.0",
     "model_name": "LayoutModel",
     "state": {
      "_model_module": "@jupyter-widgets/base",
      "_model_module_version": "1.2.0",
      "_model_name": "LayoutModel",
      "_view_count": null,
      "_view_module": "@jupyter-widgets/base",
      "_view_module_version": "1.2.0",
      "_view_name": "LayoutView",
      "align_content": null,
      "align_items": null,
      "align_self": null,
      "border": null,
      "bottom": null,
      "display": null,
      "flex": null,
      "flex_flow": null,
      "grid_area": null,
      "grid_auto_columns": null,
      "grid_auto_flow": null,
      "grid_auto_rows": null,
      "grid_column": null,
      "grid_gap": null,
      "grid_row": null,
      "grid_template_areas": null,
      "grid_template_columns": null,
      "grid_template_rows": null,
      "height": null,
      "justify_content": null,
      "justify_items": null,
      "left": null,
      "margin": null,
      "max_height": null,
      "max_width": null,
      "min_height": null,
      "min_width": null,
      "object_fit": null,
      "object_position": null,
      "order": null,
      "overflow": null,
      "overflow_x": null,
      "overflow_y": null,
      "padding": null,
      "right": null,
      "top": null,
      "visibility": null,
      "width": null
     }
    },
    "68fa0322e02a45a3a5d9929e2ce7a8af": {
     "model_module": "@jupyter-widgets/base",
     "model_module_version": "1.2.0",
     "model_name": "LayoutModel",
     "state": {
      "_model_module": "@jupyter-widgets/base",
      "_model_module_version": "1.2.0",
      "_model_name": "LayoutModel",
      "_view_count": null,
      "_view_module": "@jupyter-widgets/base",
      "_view_module_version": "1.2.0",
      "_view_name": "LayoutView",
      "align_content": null,
      "align_items": null,
      "align_self": null,
      "border": null,
      "bottom": null,
      "display": null,
      "flex": null,
      "flex_flow": null,
      "grid_area": null,
      "grid_auto_columns": null,
      "grid_auto_flow": null,
      "grid_auto_rows": null,
      "grid_column": null,
      "grid_gap": null,
      "grid_row": null,
      "grid_template_areas": null,
      "grid_template_columns": null,
      "grid_template_rows": null,
      "height": null,
      "justify_content": null,
      "justify_items": null,
      "left": null,
      "margin": null,
      "max_height": null,
      "max_width": null,
      "min_height": null,
      "min_width": null,
      "object_fit": null,
      "object_position": null,
      "order": null,
      "overflow": null,
      "overflow_x": null,
      "overflow_y": null,
      "padding": null,
      "right": null,
      "top": null,
      "visibility": null,
      "width": null
     }
    },
    "71a9db7923cd422eb226d528dc9a57f4": {
     "model_module": "@jupyter-widgets/controls",
     "model_module_version": "1.5.0",
     "model_name": "HTMLModel",
     "state": {
      "_dom_classes": [],
      "_model_module": "@jupyter-widgets/controls",
      "_model_module_version": "1.5.0",
      "_model_name": "HTMLModel",
      "_view_count": null,
      "_view_module": "@jupyter-widgets/controls",
      "_view_module_version": "1.5.0",
      "_view_name": "HTMLView",
      "description": "",
      "description_tooltip": null,
      "layout": "IPY_MODEL_57cdfffa80a74de1a436873bcb1869df",
      "placeholder": "​",
      "style": "IPY_MODEL_bd096dfca5ed47e5b4cfcc07ff2b4ad0",
      "value": "Unsloth: GGUF conversion: 100%"
     }
    },
    "7f93dcd20c9c431e99c3a817edbb3ddc": {
     "model_module": "@jupyter-widgets/base",
     "model_module_version": "1.2.0",
     "model_name": "LayoutModel",
     "state": {
      "_model_module": "@jupyter-widgets/base",
      "_model_module_version": "1.2.0",
      "_model_name": "LayoutModel",
      "_view_count": null,
      "_view_module": "@jupyter-widgets/base",
      "_view_module_version": "1.2.0",
      "_view_name": "LayoutView",
      "align_content": null,
      "align_items": null,
      "align_self": null,
      "border": null,
      "bottom": null,
      "display": null,
      "flex": null,
      "flex_flow": null,
      "grid_area": null,
      "grid_auto_columns": null,
      "grid_auto_flow": null,
      "grid_auto_rows": null,
      "grid_column": null,
      "grid_gap": null,
      "grid_row": null,
      "grid_template_areas": null,
      "grid_template_columns": null,
      "grid_template_rows": null,
      "height": null,
      "justify_content": null,
      "justify_items": null,
      "left": null,
      "margin": null,
      "max_height": null,
      "max_width": null,
      "min_height": null,
      "min_width": null,
      "object_fit": null,
      "object_position": null,
      "order": null,
      "overflow": null,
      "overflow_x": null,
      "overflow_y": null,
      "padding": null,
      "right": null,
      "top": null,
      "visibility": null,
      "width": null
     }
    },
    "84af37d6de4a4eb2923b01d8951094a0": {
     "model_module": "@jupyter-widgets/controls",
     "model_module_version": "1.5.0",
     "model_name": "DescriptionStyleModel",
     "state": {
      "_model_module": "@jupyter-widgets/controls",
      "_model_module_version": "1.5.0",
      "_model_name": "DescriptionStyleModel",
      "_view_count": null,
      "_view_module": "@jupyter-widgets/base",
      "_view_module_version": "1.2.0",
      "_view_name": "StyleView",
      "description_width": ""
     }
    },
    "8610a166cc5d4fe2b35645cc14c188d3": {
     "model_module": "@jupyter-widgets/controls",
     "model_module_version": "1.5.0",
     "model_name": "DescriptionStyleModel",
     "state": {
      "_model_module": "@jupyter-widgets/controls",
      "_model_module_version": "1.5.0",
      "_model_name": "DescriptionStyleModel",
      "_view_count": null,
      "_view_module": "@jupyter-widgets/base",
      "_view_module_version": "1.2.0",
      "_view_name": "StyleView",
      "description_width": ""
     }
    },
    "87e08078289c49aaae4cd2b0856bfdd8": {
     "model_module": "@jupyter-widgets/base",
     "model_module_version": "1.2.0",
     "model_name": "LayoutModel",
     "state": {
      "_model_module": "@jupyter-widgets/base",
      "_model_module_version": "1.2.0",
      "_model_name": "LayoutModel",
      "_view_count": null,
      "_view_module": "@jupyter-widgets/base",
      "_view_module_version": "1.2.0",
      "_view_name": "LayoutView",
      "align_content": null,
      "align_items": null,
      "align_self": null,
      "border": null,
      "bottom": null,
      "display": null,
      "flex": null,
      "flex_flow": null,
      "grid_area": null,
      "grid_auto_columns": null,
      "grid_auto_flow": null,
      "grid_auto_rows": null,
      "grid_column": null,
      "grid_gap": null,
      "grid_row": null,
      "grid_template_areas": null,
      "grid_template_columns": null,
      "grid_template_rows": null,
      "height": null,
      "justify_content": null,
      "justify_items": null,
      "left": null,
      "margin": null,
      "max_height": null,
      "max_width": null,
      "min_height": null,
      "min_width": null,
      "object_fit": null,
      "object_position": null,
      "order": null,
      "overflow": null,
      "overflow_x": null,
      "overflow_y": null,
      "padding": null,
      "right": null,
      "top": null,
      "visibility": null,
      "width": null
     }
    },
    "95c1f9de56064723b3a4d7572d4536b9": {
     "model_module": "@jupyter-widgets/controls",
     "model_module_version": "1.5.0",
     "model_name": "DescriptionStyleModel",
     "state": {
      "_model_module": "@jupyter-widgets/controls",
      "_model_module_version": "1.5.0",
      "_model_name": "DescriptionStyleModel",
      "_view_count": null,
      "_view_module": "@jupyter-widgets/base",
      "_view_module_version": "1.2.0",
      "_view_name": "StyleView",
      "description_width": ""
     }
    },
    "98178699a7314a3e85c344c4b9ddec38": {
     "model_module": "@jupyter-widgets/controls",
     "model_module_version": "1.5.0",
     "model_name": "HTMLModel",
     "state": {
      "_dom_classes": [],
      "_model_module": "@jupyter-widgets/controls",
      "_model_module_version": "1.5.0",
      "_model_name": "HTMLModel",
      "_view_count": null,
      "_view_module": "@jupyter-widgets/controls",
      "_view_module_version": "1.5.0",
      "_view_name": "HTMLView",
      "description": "",
      "description_tooltip": null,
      "layout": "IPY_MODEL_7f93dcd20c9c431e99c3a817edbb3ddc",
      "placeholder": "​",
      "style": "IPY_MODEL_95c1f9de56064723b3a4d7572d4536b9",
      "value": "Unsloth: GGUF conversion: 100%"
     }
    },
    "a15c7d84b62a4a4ea445097b15d19fe0": {
     "model_module": "@jupyter-widgets/controls",
     "model_module_version": "1.5.0",
     "model_name": "HTMLModel",
     "state": {
      "_dom_classes": [],
      "_model_module": "@jupyter-widgets/controls",
      "_model_module_version": "1.5.0",
      "_model_name": "HTMLModel",
      "_view_count": null,
      "_view_module": "@jupyter-widgets/controls",
      "_view_module_version": "1.5.0",
      "_view_name": "HTMLView",
      "description": "",
      "description_tooltip": null,
      "layout": "IPY_MODEL_ef2ebe6a18af4d959bfdadc33b9d1c72",
      "placeholder": "​",
      "style": "IPY_MODEL_59b7d4148383490683388ba45bff096d",
      "value": " 4.96G/4.96G [00:12&lt;00:00, 743MB/s]"
     }
    },
    "a801bc0344534702bfc67ad05be6a633": {
     "model_module": "@jupyter-widgets/base",
     "model_module_version": "1.2.0",
     "model_name": "LayoutModel",
     "state": {
      "_model_module": "@jupyter-widgets/base",
      "_model_module_version": "1.2.0",
      "_model_name": "LayoutModel",
      "_view_count": null,
      "_view_module": "@jupyter-widgets/base",
      "_view_module_version": "1.2.0",
      "_view_name": "LayoutView",
      "align_content": null,
      "align_items": null,
      "align_self": null,
      "border": null,
      "bottom": null,
      "display": null,
      "flex": null,
      "flex_flow": null,
      "grid_area": null,
      "grid_auto_columns": null,
      "grid_auto_flow": null,
      "grid_auto_rows": null,
      "grid_column": null,
      "grid_gap": null,
      "grid_row": null,
      "grid_template_areas": null,
      "grid_template_columns": null,
      "grid_template_rows": null,
      "height": null,
      "justify_content": null,
      "justify_items": null,
      "left": null,
      "margin": null,
      "max_height": null,
      "max_width": null,
      "min_height": null,
      "min_width": null,
      "object_fit": null,
      "object_position": null,
      "order": null,
      "overflow": null,
      "overflow_x": null,
      "overflow_y": null,
      "padding": null,
      "right": null,
      "top": null,
      "visibility": null,
      "width": null
     }
    },
    "a88cb5477c984b73af8d1c1e285dfd47": {
     "model_module": "@jupyter-widgets/base",
     "model_module_version": "1.2.0",
     "model_name": "LayoutModel",
     "state": {
      "_model_module": "@jupyter-widgets/base",
      "_model_module_version": "1.2.0",
      "_model_name": "LayoutModel",
      "_view_count": null,
      "_view_module": "@jupyter-widgets/base",
      "_view_module_version": "1.2.0",
      "_view_name": "LayoutView",
      "align_content": null,
      "align_items": null,
      "align_self": null,
      "border": null,
      "bottom": null,
      "display": null,
      "flex": null,
      "flex_flow": null,
      "grid_area": null,
      "grid_auto_columns": null,
      "grid_auto_flow": null,
      "grid_auto_rows": null,
      "grid_column": null,
      "grid_gap": null,
      "grid_row": null,
      "grid_template_areas": null,
      "grid_template_columns": null,
      "grid_template_rows": null,
      "height": null,
      "justify_content": null,
      "justify_items": null,
      "left": null,
      "margin": null,
      "max_height": null,
      "max_width": null,
      "min_height": null,
      "min_width": null,
      "object_fit": null,
      "object_position": null,
      "order": null,
      "overflow": null,
      "overflow_x": null,
      "overflow_y": null,
      "padding": null,
      "right": null,
      "top": null,
      "visibility": null,
      "width": null
     }
    },
    "ad50ce64aed74467aee266f4bfafcc11": {
     "model_module": "@jupyter-widgets/controls",
     "model_module_version": "1.5.0",
     "model_name": "HBoxModel",
     "state": {
      "_dom_classes": [],
      "_model_module": "@jupyter-widgets/controls",
      "_model_module_version": "1.5.0",
      "_model_name": "HBoxModel",
      "_view_count": null,
      "_view_module": "@jupyter-widgets/controls",
      "_view_module_version": "1.5.0",
      "_view_name": "HBoxView",
      "box_style": "",
      "children": [
       "IPY_MODEL_118523f19c044461992b525513e26c78",
       "IPY_MODEL_27cb1f72a1fc4565a686baca51e14c70",
       "IPY_MODEL_5f9009faf77a4c1da717337faf8c154d"
      ],
      "layout": "IPY_MODEL_c0e5f3a321a34b77b889893cadc38514"
     }
    },
    "b012db08bd15459ca14a76c15c5dd40d": {
     "model_module": "@jupyter-widgets/controls",
     "model_module_version": "1.5.0",
     "model_name": "ProgressStyleModel",
     "state": {
      "_model_module": "@jupyter-widgets/controls",
      "_model_module_version": "1.5.0",
      "_model_name": "ProgressStyleModel",
      "_view_count": null,
      "_view_module": "@jupyter-widgets/base",
      "_view_module_version": "1.2.0",
      "_view_name": "StyleView",
      "bar_color": null,
      "description_width": ""
     }
    },
    "b11fd4fe0a064e99ad00114bb621aea8": {
     "model_module": "@jupyter-widgets/controls",
     "model_module_version": "1.5.0",
     "model_name": "DescriptionStyleModel",
     "state": {
      "_model_module": "@jupyter-widgets/controls",
      "_model_module_version": "1.5.0",
      "_model_name": "DescriptionStyleModel",
      "_view_count": null,
      "_view_module": "@jupyter-widgets/base",
      "_view_module_version": "1.2.0",
      "_view_name": "StyleView",
      "description_width": ""
     }
    },
    "b670cece049b4e3e984d6a18fd390c7e": {
     "model_module": "@jupyter-widgets/controls",
     "model_module_version": "1.5.0",
     "model_name": "FloatProgressModel",
     "state": {
      "_dom_classes": [],
      "_model_module": "@jupyter-widgets/controls",
      "_model_module_version": "1.5.0",
      "_model_name": "FloatProgressModel",
      "_view_count": null,
      "_view_module": "@jupyter-widgets/controls",
      "_view_module_version": "1.5.0",
      "_view_name": "ProgressView",
      "bar_style": "danger",
      "description": "",
      "description_tooltip": null,
      "layout": "IPY_MODEL_87e08078289c49aaae4cd2b0856bfdd8",
      "max": 4961251752,
      "min": 0,
      "orientation": "horizontal",
      "style": "IPY_MODEL_b012db08bd15459ca14a76c15c5dd40d",
      "value": 4961251279
     }
    },
    "bd096dfca5ed47e5b4cfcc07ff2b4ad0": {
     "model_module": "@jupyter-widgets/controls",
     "model_module_version": "1.5.0",
     "model_name": "DescriptionStyleModel",
     "state": {
      "_model_module": "@jupyter-widgets/controls",
      "_model_module_version": "1.5.0",
      "_model_name": "DescriptionStyleModel",
      "_view_count": null,
      "_view_module": "@jupyter-widgets/base",
      "_view_module_version": "1.2.0",
      "_view_name": "StyleView",
      "description_width": ""
     }
    },
    "c0e5f3a321a34b77b889893cadc38514": {
     "model_module": "@jupyter-widgets/base",
     "model_module_version": "1.2.0",
     "model_name": "LayoutModel",
     "state": {
      "_model_module": "@jupyter-widgets/base",
      "_model_module_version": "1.2.0",
      "_model_name": "LayoutModel",
      "_view_count": null,
      "_view_module": "@jupyter-widgets/base",
      "_view_module_version": "1.2.0",
      "_view_name": "LayoutView",
      "align_content": null,
      "align_items": null,
      "align_self": null,
      "border": null,
      "bottom": null,
      "display": null,
      "flex": null,
      "flex_flow": null,
      "grid_area": null,
      "grid_auto_columns": null,
      "grid_auto_flow": null,
      "grid_auto_rows": null,
      "grid_column": null,
      "grid_gap": null,
      "grid_row": null,
      "grid_template_areas": null,
      "grid_template_columns": null,
      "grid_template_rows": null,
      "height": null,
      "justify_content": null,
      "justify_items": null,
      "left": null,
      "margin": null,
      "max_height": null,
      "max_width": null,
      "min_height": null,
      "min_width": null,
      "object_fit": null,
      "object_position": null,
      "order": null,
      "overflow": null,
      "overflow_x": null,
      "overflow_y": null,
      "padding": null,
      "right": null,
      "top": null,
      "visibility": null,
      "width": null
     }
    },
    "c7c58ef066114073b95986e1be5d57a8": {
     "model_module": "@jupyter-widgets/controls",
     "model_module_version": "1.5.0",
     "model_name": "HBoxModel",
     "state": {
      "_dom_classes": [],
      "_model_module": "@jupyter-widgets/controls",
      "_model_module_version": "1.5.0",
      "_model_name": "HBoxModel",
      "_view_count": null,
      "_view_module": "@jupyter-widgets/controls",
      "_view_module_version": "1.5.0",
      "_view_name": "HBoxView",
      "box_style": "",
      "children": [
       "IPY_MODEL_641b88b260eb4aecbbc30ce12ec79547",
       "IPY_MODEL_b670cece049b4e3e984d6a18fd390c7e",
       "IPY_MODEL_a15c7d84b62a4a4ea445097b15d19fe0"
      ],
      "layout": "IPY_MODEL_22b08d5d7f3346e4833e9fbc21e94666"
     }
    },
    "c844da9703294538a7dc88a4cb1e13d0": {
     "model_module": "@jupyter-widgets/base",
     "model_module_version": "1.2.0",
     "model_name": "LayoutModel",
     "state": {
      "_model_module": "@jupyter-widgets/base",
      "_model_module_version": "1.2.0",
      "_model_name": "LayoutModel",
      "_view_count": null,
      "_view_module": "@jupyter-widgets/base",
      "_view_module_version": "1.2.0",
      "_view_name": "LayoutView",
      "align_content": null,
      "align_items": null,
      "align_self": null,
      "border": null,
      "bottom": null,
      "display": null,
      "flex": null,
      "flex_flow": null,
      "grid_area": null,
      "grid_auto_columns": null,
      "grid_auto_flow": null,
      "grid_auto_rows": null,
      "grid_column": null,
      "grid_gap": null,
      "grid_row": null,
      "grid_template_areas": null,
      "grid_template_columns": null,
      "grid_template_rows": null,
      "height": null,
      "justify_content": null,
      "justify_items": null,
      "left": null,
      "margin": null,
      "max_height": null,
      "max_width": null,
      "min_height": null,
      "min_width": null,
      "object_fit": null,
      "object_position": null,
      "order": null,
      "overflow": null,
      "overflow_x": null,
      "overflow_y": null,
      "padding": null,
      "right": null,
      "top": null,
      "visibility": null,
      "width": null
     }
    },
    "c9bfa6aaedd947b9b4a643cbd7d4f8cb": {
     "model_module": "@jupyter-widgets/controls",
     "model_module_version": "1.5.0",
     "model_name": "FloatProgressModel",
     "state": {
      "_dom_classes": [],
      "_model_module": "@jupyter-widgets/controls",
      "_model_module_version": "1.5.0",
      "_model_name": "FloatProgressModel",
      "_view_count": null,
      "_view_module": "@jupyter-widgets/controls",
      "_view_module_version": "1.5.0",
      "_view_name": "ProgressView",
      "bar_style": "success",
      "description": "",
      "description_tooltip": null,
      "layout": "IPY_MODEL_68fa0322e02a45a3a5d9929e2ce7a8af",
      "max": 100,
      "min": 0,
      "orientation": "horizontal",
      "style": "IPY_MODEL_d393c3c1a6fe467c81083c26873747ac",
      "value": 100
     }
    },
    "cb1af9c37d5944d1bdc4e74971b653a1": {
     "model_module": "@jupyter-widgets/base",
     "model_module_version": "1.2.0",
     "model_name": "LayoutModel",
     "state": {
      "_model_module": "@jupyter-widgets/base",
      "_model_module_version": "1.2.0",
      "_model_name": "LayoutModel",
      "_view_count": null,
      "_view_module": "@jupyter-widgets/base",
      "_view_module_version": "1.2.0",
      "_view_name": "LayoutView",
      "align_content": null,
      "align_items": null,
      "align_self": null,
      "border": null,
      "bottom": null,
      "display": null,
      "flex": null,
      "flex_flow": null,
      "grid_area": null,
      "grid_auto_columns": null,
      "grid_auto_flow": null,
      "grid_auto_rows": null,
      "grid_column": null,
      "grid_gap": null,
      "grid_row": null,
      "grid_template_areas": null,
      "grid_template_columns": null,
      "grid_template_rows": null,
      "height": null,
      "justify_content": null,
      "justify_items": null,
      "left": null,
      "margin": null,
      "max_height": null,
      "max_width": null,
      "min_height": null,
      "min_width": null,
      "object_fit": null,
      "object_position": null,
      "order": null,
      "overflow": null,
      "overflow_x": null,
      "overflow_y": null,
      "padding": null,
      "right": null,
      "top": null,
      "visibility": null,
      "width": null
     }
    },
    "d393c3c1a6fe467c81083c26873747ac": {
     "model_module": "@jupyter-widgets/controls",
     "model_module_version": "1.5.0",
     "model_name": "ProgressStyleModel",
     "state": {
      "_model_module": "@jupyter-widgets/controls",
      "_model_module_version": "1.5.0",
      "_model_name": "ProgressStyleModel",
      "_view_count": null,
      "_view_module": "@jupyter-widgets/base",
      "_view_module_version": "1.2.0",
      "_view_name": "StyleView",
      "bar_color": null,
      "description_width": ""
     }
    },
    "d53090ff54f44f3a8625ed4fa2529215": {
     "model_module": "@jupyter-widgets/controls",
     "model_module_version": "1.5.0",
     "model_name": "DescriptionStyleModel",
     "state": {
      "_model_module": "@jupyter-widgets/controls",
      "_model_module_version": "1.5.0",
      "_model_name": "DescriptionStyleModel",
      "_view_count": null,
      "_view_module": "@jupyter-widgets/base",
      "_view_module_version": "1.2.0",
      "_view_name": "StyleView",
      "description_width": ""
     }
    },
    "ef2ebe6a18af4d959bfdadc33b9d1c72": {
     "model_module": "@jupyter-widgets/base",
     "model_module_version": "1.2.0",
     "model_name": "LayoutModel",
     "state": {
      "_model_module": "@jupyter-widgets/base",
      "_model_module_version": "1.2.0",
      "_model_name": "LayoutModel",
      "_view_count": null,
      "_view_module": "@jupyter-widgets/base",
      "_view_module_version": "1.2.0",
      "_view_name": "LayoutView",
      "align_content": null,
      "align_items": null,
      "align_self": null,
      "border": null,
      "bottom": null,
      "display": null,
      "flex": null,
      "flex_flow": null,
      "grid_area": null,
      "grid_auto_columns": null,
      "grid_auto_flow": null,
      "grid_auto_rows": null,
      "grid_column": null,
      "grid_gap": null,
      "grid_row": null,
      "grid_template_areas": null,
      "grid_template_columns": null,
      "grid_template_rows": null,
      "height": null,
      "justify_content": null,
      "justify_items": null,
      "left": null,
      "margin": null,
      "max_height": null,
      "max_width": null,
      "min_height": null,
      "min_width": null,
      "object_fit": null,
      "object_position": null,
      "order": null,
      "overflow": null,
      "overflow_x": null,
      "overflow_y": null,
      "padding": null,
      "right": null,
      "top": null,
      "visibility": null,
      "width": null
     }
    },
    "f15573f1d485436d94b26baca70c102c": {
     "model_module": "@jupyter-widgets/controls",
     "model_module_version": "1.5.0",
     "model_name": "HBoxModel",
     "state": {
      "_dom_classes": [],
      "_model_module": "@jupyter-widgets/controls",
      "_model_module_version": "1.5.0",
      "_model_name": "HBoxModel",
      "_view_count": null,
      "_view_module": "@jupyter-widgets/controls",
      "_view_module_version": "1.5.0",
      "_view_name": "HBoxView",
      "box_style": "",
      "children": [
       "IPY_MODEL_98178699a7314a3e85c344c4b9ddec38",
       "IPY_MODEL_f2bd5cbbb65243778f01344ee4507226",
       "IPY_MODEL_5d1b797749c34a02bf2ed9a80caf1d62"
      ],
      "layout": "IPY_MODEL_a88cb5477c984b73af8d1c1e285dfd47"
     }
    },
    "f2bd5cbbb65243778f01344ee4507226": {
     "model_module": "@jupyter-widgets/controls",
     "model_module_version": "1.5.0",
     "model_name": "FloatProgressModel",
     "state": {
      "_dom_classes": [],
      "_model_module": "@jupyter-widgets/controls",
      "_model_module_version": "1.5.0",
      "_model_name": "FloatProgressModel",
      "_view_count": null,
      "_view_module": "@jupyter-widgets/controls",
      "_view_module_version": "1.5.0",
      "_view_name": "ProgressView",
      "bar_style": "success",
      "description": "",
      "description_tooltip": null,
      "layout": "IPY_MODEL_c844da9703294538a7dc88a4cb1e13d0",
      "max": 100,
      "min": 0,
      "orientation": "horizontal",
      "style": "IPY_MODEL_5673bef5e6fb4049a6823ec0b33e268b",
      "value": 100
     }
    }
   }
  }
 },
 "nbformat": 4,
 "nbformat_minor": 4
}
